{
 "cells": [
  {
   "attachments": {},
   "cell_type": "markdown",
   "metadata": {},
   "source": [
    "# Perkenalan \n",
    "\n",
    "=================================================\n",
    "\n",
    "Nama  : Gieorgie Kharismatik Kosasih\n",
    "\n",
    "Notebook ini di buat untuk melakukan analisis terhadap data sales coffee shop untuk dapat menaikan pendapatan sebesar 10%. analisa yang dilakukan meliputi analisis statistika deskriptif dan inferensial serta menvisualisasikan data yang ada untuk di ambil insight yang berguna dalam analisis.\n",
    "\n",
    "\n",
    "Dashboard dapat di akses [disini](https://public.tableau.com/app/profile/gieorgie/viz/CoffeeShopGieorgie/Milestone1GieorgieKosasih?publish=yes)\n",
    "\n",
    "================================================="
   ]
  },
  {
   "attachments": {},
   "cell_type": "markdown",
   "metadata": {},
   "source": [
    "# Identifikasi Masalah"
   ]
  },
  {
   "attachments": {},
   "cell_type": "markdown",
   "metadata": {},
   "source": [
    "## Topik Permasalahan  \n",
    "\n",
    "**Analisis Data Penjualan untuk Meningkatkan Pendapatan Coffee Shop Astoria**"
   ]
  },
  {
   "attachments": {},
   "cell_type": "markdown",
   "metadata": {},
   "source": [
    "## Problem Statement\n",
    "User : Coffee shop business owner\n",
    "\n",
    "Analisis berfokus pada store yang adaa di Astoria\n",
    "\n",
    "SMART :\n",
    "\n",
    "- Spesifik: Mengidentifikasi peluang untuk mengeluarkan menu baru dan meningkatkan efisiensi menu guna meningkatkan pendapatan coffee shop.\n",
    "- Measurable: Menetapkan target peningkatan pendapatan sebesar 10% sebagai indikator keberhasilan dari implementasi strategi baru.\n",
    "- Achievable: Menerapkan strategi mengeluarkan produk baru dan menentukan barang yang akan dipromosikan untuk meningkatkan penjualan secara efektif.\n",
    "- Relevant: Melakukan analisis efisiensi menu, manajemen stok, dan waktu promosi yang tepat untuk memastikan peningkatan pendapatan yang relevan sambil juga mengoptimalkan operational cost.\n",
    "- Time-Bound: Menghasilkan rekomendasi strategi dan melaksanakannya dalam waktu 3 bulan agar target peningkatan pendapatan dapat tercapai.\n",
    "\n",
    "\n",
    "\n",
    "\n",
    "Sebagai seorang data analyst yang diperkerjakan oleh owner coffee shop Astoria, fokus saya adalah untuk menganalisis data penjualan dan mengembangkan strategi yang memenuhi kriteria SMART (Specific, Measurable, Achievable, Relevant, Time-Bound) guna meningkatkan pendapatan coffee shop dalam waktu 3 bulan ke depan. Secara spesifik, saya akan mengidentifikasi peluang untuk mengeluarkan menu baru dan meningkatkan efisiensi menu dengan tujuan meningkatkan pendapatan coffee shop. Target peningkatan pendapatan sebesar 10% akan dijadikan tolok ukur keberhasilan dari implementasi strategi baru ini. Strategi ini diharapkan dapat dicapai dengan mengeluarkan produk baru yang menarik dan menentukan barang yang akan dipromosikan secara efektif. Saya juga akan melakukan analisis efisiensi menu, manajemen stok, dan waktu promosi yang tepat untuk memastikan peningkatan pendapatan yang relevan sambil juga mengoptimalkan operational cost. Melalui implementasi strategi ini dalam waktu 3 bulan, tujuan kami adalah untuk mencapai peningkatan pendapatan yang signifikan bagi coffee shop Astoria."
   ]
  },
  {
   "attachments": {},
   "cell_type": "markdown",
   "metadata": {},
   "source": [
    "## Penjabaran Masalah\n",
    "- Bagaimana performa penjualan di coffee shop? (Visual)\n",
    "- Bagaimana distribusi data, rata-rata, modus, dan median harga tiap produk? (Deskriptif)\n",
    "- Bagaimana distribusi data, rata-rata, modus, dan median transaksi tiap produk? (Deskriptif)\n",
    "- Adakah perbedaan transaksi yang signifikan antara kategori produk? (Inferensial)\n",
    "- Kategori produk mana yang paling diminati pelanggan? (Visual)\n",
    "- Apakah pelanggan cenderung membeli produk yang murah? (Inferensial)\n",
    "- Produk apa yang paling diminati di coffee shop Astoria berdasarkan data penjualan? (Visual)\n",
    "- Kapan waktu pembelian paling sering dan paling sepi di coffee shop Astoria? (Visual)\n",
    "- Hari apa yang paling ramai di coffee shop? (Visual)\n",
    "- Ukuran cup apa yang paling diminati oleh pembeli? (Visual)"
   ]
  },
  {
   "attachments": {},
   "cell_type": "markdown",
   "metadata": {},
   "source": [
    "# Data Loading"
   ]
  },
  {
   "attachments": {},
   "cell_type": "markdown",
   "metadata": {},
   "source": [
    "Permasalahan di atas akan di analisa menggunakan dataset Coffee Sales Analysis. Data berisikan penjualan coffe shop yang berada di beberapa kota di USA. Dataset dapat di akses [disini](https://www.kaggle.com/datasets/divu2001/coffee-shop-sales-analysis)"
   ]
  },
  {
   "cell_type": "code",
   "execution_count": 1,
   "metadata": {},
   "outputs": [],
   "source": [
    "# Import library yang di butuhkan\n",
    "import numpy as np\n",
    "import pandas as pd\n",
    "import seaborn as sns\n",
    "from scipy import stats\n",
    "from scipy.stats import spearmanr\n",
    "import matplotlib.pyplot as plt"
   ]
  },
  {
   "cell_type": "code",
   "execution_count": 2,
   "metadata": {},
   "outputs": [
    {
     "data": {
      "text/html": [
       "<div>\n",
       "<style scoped>\n",
       "    .dataframe tbody tr th:only-of-type {\n",
       "        vertical-align: middle;\n",
       "    }\n",
       "\n",
       "    .dataframe tbody tr th {\n",
       "        vertical-align: top;\n",
       "    }\n",
       "\n",
       "    .dataframe thead th {\n",
       "        text-align: right;\n",
       "    }\n",
       "</style>\n",
       "<table border=\"1\" class=\"dataframe\">\n",
       "  <thead>\n",
       "    <tr style=\"text-align: right;\">\n",
       "      <th></th>\n",
       "      <th>transaction_id</th>\n",
       "      <th>transaction_date</th>\n",
       "      <th>transaction_time</th>\n",
       "      <th>store_id</th>\n",
       "      <th>store_location</th>\n",
       "      <th>product_id</th>\n",
       "      <th>transaction_qty</th>\n",
       "      <th>unit_price</th>\n",
       "      <th>Total_Bill</th>\n",
       "      <th>product_category</th>\n",
       "      <th>product_type</th>\n",
       "      <th>product_detail</th>\n",
       "      <th>Size</th>\n",
       "      <th>Month Name</th>\n",
       "      <th>Day Name</th>\n",
       "      <th>Hour</th>\n",
       "      <th>Month</th>\n",
       "      <th>Day of Week</th>\n",
       "    </tr>\n",
       "  </thead>\n",
       "  <tbody>\n",
       "    <tr>\n",
       "      <th>0</th>\n",
       "      <td>114301</td>\n",
       "      <td>01-06-2023</td>\n",
       "      <td>11:33:29</td>\n",
       "      <td>3</td>\n",
       "      <td>Astoria</td>\n",
       "      <td>45</td>\n",
       "      <td>1</td>\n",
       "      <td>3.0</td>\n",
       "      <td>3.0</td>\n",
       "      <td>Tea</td>\n",
       "      <td>Brewed herbal tea</td>\n",
       "      <td>Peppermint</td>\n",
       "      <td>Large</td>\n",
       "      <td>June</td>\n",
       "      <td>Thursday</td>\n",
       "      <td>11</td>\n",
       "      <td>6</td>\n",
       "      <td>3</td>\n",
       "    </tr>\n",
       "    <tr>\n",
       "      <th>1</th>\n",
       "      <td>115405</td>\n",
       "      <td>02-06-2023</td>\n",
       "      <td>11:18:24</td>\n",
       "      <td>3</td>\n",
       "      <td>Astoria</td>\n",
       "      <td>45</td>\n",
       "      <td>1</td>\n",
       "      <td>3.0</td>\n",
       "      <td>3.0</td>\n",
       "      <td>Tea</td>\n",
       "      <td>Brewed herbal tea</td>\n",
       "      <td>Peppermint</td>\n",
       "      <td>Large</td>\n",
       "      <td>June</td>\n",
       "      <td>Friday</td>\n",
       "      <td>11</td>\n",
       "      <td>6</td>\n",
       "      <td>4</td>\n",
       "    </tr>\n",
       "    <tr>\n",
       "      <th>2</th>\n",
       "      <td>115478</td>\n",
       "      <td>02-06-2023</td>\n",
       "      <td>12:02:45</td>\n",
       "      <td>3</td>\n",
       "      <td>Astoria</td>\n",
       "      <td>45</td>\n",
       "      <td>1</td>\n",
       "      <td>3.0</td>\n",
       "      <td>3.0</td>\n",
       "      <td>Tea</td>\n",
       "      <td>Brewed herbal tea</td>\n",
       "      <td>Peppermint</td>\n",
       "      <td>Large</td>\n",
       "      <td>June</td>\n",
       "      <td>Friday</td>\n",
       "      <td>12</td>\n",
       "      <td>6</td>\n",
       "      <td>4</td>\n",
       "    </tr>\n",
       "    <tr>\n",
       "      <th>3</th>\n",
       "      <td>116288</td>\n",
       "      <td>02-06-2023</td>\n",
       "      <td>19:39:47</td>\n",
       "      <td>3</td>\n",
       "      <td>Astoria</td>\n",
       "      <td>45</td>\n",
       "      <td>1</td>\n",
       "      <td>3.0</td>\n",
       "      <td>3.0</td>\n",
       "      <td>Tea</td>\n",
       "      <td>Brewed herbal tea</td>\n",
       "      <td>Peppermint</td>\n",
       "      <td>Large</td>\n",
       "      <td>June</td>\n",
       "      <td>Friday</td>\n",
       "      <td>19</td>\n",
       "      <td>6</td>\n",
       "      <td>4</td>\n",
       "    </tr>\n",
       "    <tr>\n",
       "      <th>4</th>\n",
       "      <td>116714</td>\n",
       "      <td>03-06-2023</td>\n",
       "      <td>12:24:57</td>\n",
       "      <td>3</td>\n",
       "      <td>Astoria</td>\n",
       "      <td>45</td>\n",
       "      <td>1</td>\n",
       "      <td>3.0</td>\n",
       "      <td>3.0</td>\n",
       "      <td>Tea</td>\n",
       "      <td>Brewed herbal tea</td>\n",
       "      <td>Peppermint</td>\n",
       "      <td>Large</td>\n",
       "      <td>June</td>\n",
       "      <td>Saturday</td>\n",
       "      <td>12</td>\n",
       "      <td>6</td>\n",
       "      <td>5</td>\n",
       "    </tr>\n",
       "  </tbody>\n",
       "</table>\n",
       "</div>"
      ],
      "text/plain": [
       "   transaction_id transaction_date transaction_time  store_id store_location  \\\n",
       "0          114301       01-06-2023         11:33:29         3        Astoria   \n",
       "1          115405       02-06-2023         11:18:24         3        Astoria   \n",
       "2          115478       02-06-2023         12:02:45         3        Astoria   \n",
       "3          116288       02-06-2023         19:39:47         3        Astoria   \n",
       "4          116714       03-06-2023         12:24:57         3        Astoria   \n",
       "\n",
       "   product_id  transaction_qty  unit_price  Total_Bill product_category  \\\n",
       "0          45                1         3.0         3.0              Tea   \n",
       "1          45                1         3.0         3.0              Tea   \n",
       "2          45                1         3.0         3.0              Tea   \n",
       "3          45                1         3.0         3.0              Tea   \n",
       "4          45                1         3.0         3.0              Tea   \n",
       "\n",
       "        product_type product_detail   Size Month Name  Day Name  Hour  Month  \\\n",
       "0  Brewed herbal tea     Peppermint  Large       June  Thursday    11      6   \n",
       "1  Brewed herbal tea     Peppermint  Large       June    Friday    11      6   \n",
       "2  Brewed herbal tea     Peppermint  Large       June    Friday    12      6   \n",
       "3  Brewed herbal tea     Peppermint  Large       June    Friday    19      6   \n",
       "4  Brewed herbal tea     Peppermint  Large       June  Saturday    12      6   \n",
       "\n",
       "   Day of Week  \n",
       "0            3  \n",
       "1            4  \n",
       "2            4  \n",
       "3            4  \n",
       "4            5  "
      ]
     },
     "execution_count": 2,
     "metadata": {},
     "output_type": "execute_result"
    }
   ],
   "source": [
    "# Load data\n",
    "df = pd.read_csv('Project.csv')\n",
    "df.head()"
   ]
  },
  {
   "attachments": {},
   "cell_type": "markdown",
   "metadata": {},
   "source": [
    "Pada data berisikan informasi sebagai berikut\n",
    "\n",
    "| Kolom | Tipe Data | Deskripsi |\n",
    "| --- | --- | --- |\n",
    "|transaction_id|int64 |ID Transaksi |\n",
    "|transaction_date|object |Tanggal Transaksi |\n",
    "|transaction_time|object |Jam Transaksi |\n",
    "|store_id |int64 |ID toko |\n",
    "|store_location|object |Lokasi toko |\n",
    "|product_id|int64 |ID Produk |\n",
    "|transaction_qty|int64 |Jumlah Transaksi |\n",
    "|unit_price|float64 |Harga Item |\n",
    "|Total_Bill|float64 |Total harga pertransaksi |\n",
    "|product_category|object |Kategori produk |\n",
    "|product_type|object |tipe Produk |\n",
    "|product_detail|object |Menu Produk |\n",
    "|Size|object |Ukuran produk |\n",
    "|Month Name|object |Bulan transaksi |\n",
    "|Day Name|object |Hari transaksi |\n",
    "|Hour|int64 |Jam transaksi |\n",
    "|Month|int64 |Nomor bulan |\n",
    "|Day of Week|int64 |Nomor hari |\n"
   ]
  },
  {
   "attachments": {},
   "cell_type": "markdown",
   "metadata": {},
   "source": [
    "Karena analisis hanya berfokus pada lokasi Astoria, saya akan memisahkan data yang berkaitan dengan lokasi tersebut."
   ]
  },
  {
   "cell_type": "code",
   "execution_count": 3,
   "metadata": {},
   "outputs": [
    {
     "data": {
      "text/plain": [
       "array(['Astoria', 'Lower Manhattan', \"Hell's Kitchen\"], dtype=object)"
      ]
     },
     "execution_count": 3,
     "metadata": {},
     "output_type": "execute_result"
    }
   ],
   "source": [
    "# Cek lokasi \n",
    "df['store_location'].unique()"
   ]
  },
  {
   "cell_type": "code",
   "execution_count": 4,
   "metadata": {},
   "outputs": [
    {
     "data": {
      "text/html": [
       "<div>\n",
       "<style scoped>\n",
       "    .dataframe tbody tr th:only-of-type {\n",
       "        vertical-align: middle;\n",
       "    }\n",
       "\n",
       "    .dataframe tbody tr th {\n",
       "        vertical-align: top;\n",
       "    }\n",
       "\n",
       "    .dataframe thead th {\n",
       "        text-align: right;\n",
       "    }\n",
       "</style>\n",
       "<table border=\"1\" class=\"dataframe\">\n",
       "  <thead>\n",
       "    <tr style=\"text-align: right;\">\n",
       "      <th></th>\n",
       "      <th>transaction_id</th>\n",
       "      <th>transaction_date</th>\n",
       "      <th>transaction_time</th>\n",
       "      <th>store_id</th>\n",
       "      <th>store_location</th>\n",
       "      <th>product_id</th>\n",
       "      <th>transaction_qty</th>\n",
       "      <th>unit_price</th>\n",
       "      <th>Total_Bill</th>\n",
       "      <th>product_category</th>\n",
       "      <th>product_type</th>\n",
       "      <th>product_detail</th>\n",
       "      <th>Size</th>\n",
       "      <th>Month Name</th>\n",
       "      <th>Day Name</th>\n",
       "      <th>Hour</th>\n",
       "      <th>Month</th>\n",
       "      <th>Day of Week</th>\n",
       "    </tr>\n",
       "  </thead>\n",
       "  <tbody>\n",
       "    <tr>\n",
       "      <th>0</th>\n",
       "      <td>114301</td>\n",
       "      <td>01-06-2023</td>\n",
       "      <td>11:33:29</td>\n",
       "      <td>3</td>\n",
       "      <td>Astoria</td>\n",
       "      <td>45</td>\n",
       "      <td>1</td>\n",
       "      <td>3.0</td>\n",
       "      <td>3.0</td>\n",
       "      <td>Tea</td>\n",
       "      <td>Brewed herbal tea</td>\n",
       "      <td>Peppermint</td>\n",
       "      <td>Large</td>\n",
       "      <td>June</td>\n",
       "      <td>Thursday</td>\n",
       "      <td>11</td>\n",
       "      <td>6</td>\n",
       "      <td>3</td>\n",
       "    </tr>\n",
       "    <tr>\n",
       "      <th>1</th>\n",
       "      <td>115405</td>\n",
       "      <td>02-06-2023</td>\n",
       "      <td>11:18:24</td>\n",
       "      <td>3</td>\n",
       "      <td>Astoria</td>\n",
       "      <td>45</td>\n",
       "      <td>1</td>\n",
       "      <td>3.0</td>\n",
       "      <td>3.0</td>\n",
       "      <td>Tea</td>\n",
       "      <td>Brewed herbal tea</td>\n",
       "      <td>Peppermint</td>\n",
       "      <td>Large</td>\n",
       "      <td>June</td>\n",
       "      <td>Friday</td>\n",
       "      <td>11</td>\n",
       "      <td>6</td>\n",
       "      <td>4</td>\n",
       "    </tr>\n",
       "    <tr>\n",
       "      <th>2</th>\n",
       "      <td>115478</td>\n",
       "      <td>02-06-2023</td>\n",
       "      <td>12:02:45</td>\n",
       "      <td>3</td>\n",
       "      <td>Astoria</td>\n",
       "      <td>45</td>\n",
       "      <td>1</td>\n",
       "      <td>3.0</td>\n",
       "      <td>3.0</td>\n",
       "      <td>Tea</td>\n",
       "      <td>Brewed herbal tea</td>\n",
       "      <td>Peppermint</td>\n",
       "      <td>Large</td>\n",
       "      <td>June</td>\n",
       "      <td>Friday</td>\n",
       "      <td>12</td>\n",
       "      <td>6</td>\n",
       "      <td>4</td>\n",
       "    </tr>\n",
       "    <tr>\n",
       "      <th>3</th>\n",
       "      <td>116288</td>\n",
       "      <td>02-06-2023</td>\n",
       "      <td>19:39:47</td>\n",
       "      <td>3</td>\n",
       "      <td>Astoria</td>\n",
       "      <td>45</td>\n",
       "      <td>1</td>\n",
       "      <td>3.0</td>\n",
       "      <td>3.0</td>\n",
       "      <td>Tea</td>\n",
       "      <td>Brewed herbal tea</td>\n",
       "      <td>Peppermint</td>\n",
       "      <td>Large</td>\n",
       "      <td>June</td>\n",
       "      <td>Friday</td>\n",
       "      <td>19</td>\n",
       "      <td>6</td>\n",
       "      <td>4</td>\n",
       "    </tr>\n",
       "    <tr>\n",
       "      <th>4</th>\n",
       "      <td>116714</td>\n",
       "      <td>03-06-2023</td>\n",
       "      <td>12:24:57</td>\n",
       "      <td>3</td>\n",
       "      <td>Astoria</td>\n",
       "      <td>45</td>\n",
       "      <td>1</td>\n",
       "      <td>3.0</td>\n",
       "      <td>3.0</td>\n",
       "      <td>Tea</td>\n",
       "      <td>Brewed herbal tea</td>\n",
       "      <td>Peppermint</td>\n",
       "      <td>Large</td>\n",
       "      <td>June</td>\n",
       "      <td>Saturday</td>\n",
       "      <td>12</td>\n",
       "      <td>6</td>\n",
       "      <td>5</td>\n",
       "    </tr>\n",
       "  </tbody>\n",
       "</table>\n",
       "</div>"
      ],
      "text/plain": [
       "   transaction_id transaction_date transaction_time  store_id store_location  \\\n",
       "0          114301       01-06-2023         11:33:29         3        Astoria   \n",
       "1          115405       02-06-2023         11:18:24         3        Astoria   \n",
       "2          115478       02-06-2023         12:02:45         3        Astoria   \n",
       "3          116288       02-06-2023         19:39:47         3        Astoria   \n",
       "4          116714       03-06-2023         12:24:57         3        Astoria   \n",
       "\n",
       "   product_id  transaction_qty  unit_price  Total_Bill product_category  \\\n",
       "0          45                1         3.0         3.0              Tea   \n",
       "1          45                1         3.0         3.0              Tea   \n",
       "2          45                1         3.0         3.0              Tea   \n",
       "3          45                1         3.0         3.0              Tea   \n",
       "4          45                1         3.0         3.0              Tea   \n",
       "\n",
       "        product_type product_detail   Size Month Name  Day Name  Hour  Month  \\\n",
       "0  Brewed herbal tea     Peppermint  Large       June  Thursday    11      6   \n",
       "1  Brewed herbal tea     Peppermint  Large       June    Friday    11      6   \n",
       "2  Brewed herbal tea     Peppermint  Large       June    Friday    12      6   \n",
       "3  Brewed herbal tea     Peppermint  Large       June    Friday    19      6   \n",
       "4  Brewed herbal tea     Peppermint  Large       June  Saturday    12      6   \n",
       "\n",
       "   Day of Week  \n",
       "0            3  \n",
       "1            4  \n",
       "2            4  \n",
       "3            4  \n",
       "4            5  "
      ]
     },
     "execution_count": 4,
     "metadata": {},
     "output_type": "execute_result"
    }
   ],
   "source": [
    "# Filter lokasi\n",
    "df = df.loc[df['store_location']=='Astoria']\n",
    "df.head()"
   ]
  },
  {
   "cell_type": "code",
   "execution_count": 5,
   "metadata": {},
   "outputs": [
    {
     "name": "stdout",
     "output_type": "stream",
     "text": [
      "Jumlah baris : 50599\n",
      "Jumlah kolom : 18\n"
     ]
    }
   ],
   "source": [
    "# Menampilkan jumlah baris dan kolom\n",
    "print(f'Jumlah baris : {df.shape[0]}')\n",
    "print(f'Jumlah kolom : {df.shape[1]}')"
   ]
  },
  {
   "cell_type": "code",
   "execution_count": 6,
   "metadata": {},
   "outputs": [
    {
     "data": {
      "text/html": [
       "<div>\n",
       "<style scoped>\n",
       "    .dataframe tbody tr th:only-of-type {\n",
       "        vertical-align: middle;\n",
       "    }\n",
       "\n",
       "    .dataframe tbody tr th {\n",
       "        vertical-align: top;\n",
       "    }\n",
       "\n",
       "    .dataframe thead th {\n",
       "        text-align: right;\n",
       "    }\n",
       "</style>\n",
       "<table border=\"1\" class=\"dataframe\">\n",
       "  <thead>\n",
       "    <tr style=\"text-align: right;\">\n",
       "      <th></th>\n",
       "      <th>transaction_id</th>\n",
       "      <th>store_id</th>\n",
       "      <th>product_id</th>\n",
       "      <th>transaction_qty</th>\n",
       "      <th>unit_price</th>\n",
       "      <th>Total_Bill</th>\n",
       "      <th>Hour</th>\n",
       "      <th>Month</th>\n",
       "      <th>Day of Week</th>\n",
       "    </tr>\n",
       "  </thead>\n",
       "  <tbody>\n",
       "    <tr>\n",
       "      <th>count</th>\n",
       "      <td>50599.000000</td>\n",
       "      <td>50599.0</td>\n",
       "      <td>50599.000000</td>\n",
       "      <td>50599.000000</td>\n",
       "      <td>50599.000000</td>\n",
       "      <td>50599.000000</td>\n",
       "      <td>50599.000000</td>\n",
       "      <td>50599.000000</td>\n",
       "      <td>50599.000000</td>\n",
       "    </tr>\n",
       "    <tr>\n",
       "      <th>mean</th>\n",
       "      <td>75046.022431</td>\n",
       "      <td>3.0</td>\n",
       "      <td>46.778810</td>\n",
       "      <td>1.403012</td>\n",
       "      <td>3.384897</td>\n",
       "      <td>4.589891</td>\n",
       "      <td>12.543272</td>\n",
       "      <td>3.991027</td>\n",
       "      <td>2.976521</td>\n",
       "    </tr>\n",
       "    <tr>\n",
       "      <th>std</th>\n",
       "      <td>43264.198245</td>\n",
       "      <td>0.0</td>\n",
       "      <td>16.959281</td>\n",
       "      <td>0.490508</td>\n",
       "      <td>2.513269</td>\n",
       "      <td>2.877599</td>\n",
       "      <td>3.795477</td>\n",
       "      <td>1.673872</td>\n",
       "      <td>1.992486</td>\n",
       "    </tr>\n",
       "    <tr>\n",
       "      <th>min</th>\n",
       "      <td>106.000000</td>\n",
       "      <td>3.0</td>\n",
       "      <td>1.000000</td>\n",
       "      <td>1.000000</td>\n",
       "      <td>0.800000</td>\n",
       "      <td>0.800000</td>\n",
       "      <td>7.000000</td>\n",
       "      <td>1.000000</td>\n",
       "      <td>0.000000</td>\n",
       "    </tr>\n",
       "    <tr>\n",
       "      <th>25%</th>\n",
       "      <td>37270.500000</td>\n",
       "      <td>3.0</td>\n",
       "      <td>33.000000</td>\n",
       "      <td>1.000000</td>\n",
       "      <td>2.500000</td>\n",
       "      <td>3.000000</td>\n",
       "      <td>9.000000</td>\n",
       "      <td>3.000000</td>\n",
       "      <td>1.000000</td>\n",
       "    </tr>\n",
       "    <tr>\n",
       "      <th>50%</th>\n",
       "      <td>75240.000000</td>\n",
       "      <td>3.0</td>\n",
       "      <td>46.000000</td>\n",
       "      <td>1.000000</td>\n",
       "      <td>3.000000</td>\n",
       "      <td>3.750000</td>\n",
       "      <td>12.000000</td>\n",
       "      <td>4.000000</td>\n",
       "      <td>3.000000</td>\n",
       "    </tr>\n",
       "    <tr>\n",
       "      <th>75%</th>\n",
       "      <td>112307.500000</td>\n",
       "      <td>3.0</td>\n",
       "      <td>58.000000</td>\n",
       "      <td>2.000000</td>\n",
       "      <td>3.750000</td>\n",
       "      <td>6.000000</td>\n",
       "      <td>16.000000</td>\n",
       "      <td>5.000000</td>\n",
       "      <td>5.000000</td>\n",
       "    </tr>\n",
       "    <tr>\n",
       "      <th>max</th>\n",
       "      <td>149449.000000</td>\n",
       "      <td>3.0</td>\n",
       "      <td>84.000000</td>\n",
       "      <td>2.000000</td>\n",
       "      <td>45.000000</td>\n",
       "      <td>45.000000</td>\n",
       "      <td>19.000000</td>\n",
       "      <td>6.000000</td>\n",
       "      <td>6.000000</td>\n",
       "    </tr>\n",
       "  </tbody>\n",
       "</table>\n",
       "</div>"
      ],
      "text/plain": [
       "       transaction_id  store_id    product_id  transaction_qty    unit_price  \\\n",
       "count    50599.000000   50599.0  50599.000000     50599.000000  50599.000000   \n",
       "mean     75046.022431       3.0     46.778810         1.403012      3.384897   \n",
       "std      43264.198245       0.0     16.959281         0.490508      2.513269   \n",
       "min        106.000000       3.0      1.000000         1.000000      0.800000   \n",
       "25%      37270.500000       3.0     33.000000         1.000000      2.500000   \n",
       "50%      75240.000000       3.0     46.000000         1.000000      3.000000   \n",
       "75%     112307.500000       3.0     58.000000         2.000000      3.750000   \n",
       "max     149449.000000       3.0     84.000000         2.000000     45.000000   \n",
       "\n",
       "         Total_Bill          Hour         Month   Day of Week  \n",
       "count  50599.000000  50599.000000  50599.000000  50599.000000  \n",
       "mean       4.589891     12.543272      3.991027      2.976521  \n",
       "std        2.877599      3.795477      1.673872      1.992486  \n",
       "min        0.800000      7.000000      1.000000      0.000000  \n",
       "25%        3.000000      9.000000      3.000000      1.000000  \n",
       "50%        3.750000     12.000000      4.000000      3.000000  \n",
       "75%        6.000000     16.000000      5.000000      5.000000  \n",
       "max       45.000000     19.000000      6.000000      6.000000  "
      ]
     },
     "metadata": {},
     "output_type": "display_data"
    },
    {
     "data": {
      "text/html": [
       "<div>\n",
       "<style scoped>\n",
       "    .dataframe tbody tr th:only-of-type {\n",
       "        vertical-align: middle;\n",
       "    }\n",
       "\n",
       "    .dataframe tbody tr th {\n",
       "        vertical-align: top;\n",
       "    }\n",
       "\n",
       "    .dataframe thead th {\n",
       "        text-align: right;\n",
       "    }\n",
       "</style>\n",
       "<table border=\"1\" class=\"dataframe\">\n",
       "  <thead>\n",
       "    <tr style=\"text-align: right;\">\n",
       "      <th></th>\n",
       "      <th>transaction_date</th>\n",
       "      <th>transaction_time</th>\n",
       "      <th>store_location</th>\n",
       "      <th>product_category</th>\n",
       "      <th>product_type</th>\n",
       "      <th>product_detail</th>\n",
       "      <th>Size</th>\n",
       "      <th>Month Name</th>\n",
       "      <th>Day Name</th>\n",
       "    </tr>\n",
       "  </thead>\n",
       "  <tbody>\n",
       "    <tr>\n",
       "      <th>count</th>\n",
       "      <td>50599</td>\n",
       "      <td>50599</td>\n",
       "      <td>50599</td>\n",
       "      <td>50599</td>\n",
       "      <td>50599</td>\n",
       "      <td>50599</td>\n",
       "      <td>50599</td>\n",
       "      <td>50599</td>\n",
       "      <td>50599</td>\n",
       "    </tr>\n",
       "    <tr>\n",
       "      <th>unique</th>\n",
       "      <td>181</td>\n",
       "      <td>11043</td>\n",
       "      <td>1</td>\n",
       "      <td>9</td>\n",
       "      <td>29</td>\n",
       "      <td>44</td>\n",
       "      <td>4</td>\n",
       "      <td>6</td>\n",
       "      <td>7</td>\n",
       "    </tr>\n",
       "    <tr>\n",
       "      <th>top</th>\n",
       "      <td>19-06-2023</td>\n",
       "      <td>10:34:04</td>\n",
       "      <td>Astoria</td>\n",
       "      <td>Coffee</td>\n",
       "      <td>Brewed Chai tea</td>\n",
       "      <td>Columbian Medium Roast</td>\n",
       "      <td>Regular</td>\n",
       "      <td>June</td>\n",
       "      <td>Thursday</td>\n",
       "    </tr>\n",
       "    <tr>\n",
       "      <th>freq</th>\n",
       "      <td>489</td>\n",
       "      <td>35</td>\n",
       "      <td>50599</td>\n",
       "      <td>20025</td>\n",
       "      <td>6293</td>\n",
       "      <td>3174</td>\n",
       "      <td>16443</td>\n",
       "      <td>11985</td>\n",
       "      <td>7427</td>\n",
       "    </tr>\n",
       "  </tbody>\n",
       "</table>\n",
       "</div>"
      ],
      "text/plain": [
       "       transaction_date transaction_time store_location product_category  \\\n",
       "count             50599            50599          50599            50599   \n",
       "unique              181            11043              1                9   \n",
       "top          19-06-2023         10:34:04        Astoria           Coffee   \n",
       "freq                489               35          50599            20025   \n",
       "\n",
       "           product_type          product_detail     Size Month Name  Day Name  \n",
       "count             50599                   50599    50599      50599     50599  \n",
       "unique               29                      44        4          6         7  \n",
       "top     Brewed Chai tea  Columbian Medium Roast  Regular       June  Thursday  \n",
       "freq               6293                    3174    16443      11985      7427  "
      ]
     },
     "metadata": {},
     "output_type": "display_data"
    }
   ],
   "source": [
    "# Sekilas deskripsi dalam data\n",
    "display(df.describe(), df.describe(include='object'))"
   ]
  },
  {
   "cell_type": "code",
   "execution_count": 7,
   "metadata": {},
   "outputs": [
    {
     "data": {
      "text/html": [
       "<div>\n",
       "<style scoped>\n",
       "    .dataframe tbody tr th:only-of-type {\n",
       "        vertical-align: middle;\n",
       "    }\n",
       "\n",
       "    .dataframe tbody tr th {\n",
       "        vertical-align: top;\n",
       "    }\n",
       "\n",
       "    .dataframe thead th {\n",
       "        text-align: right;\n",
       "    }\n",
       "</style>\n",
       "<table border=\"1\" class=\"dataframe\">\n",
       "  <thead>\n",
       "    <tr style=\"text-align: right;\">\n",
       "      <th></th>\n",
       "      <th>Column Name</th>\n",
       "      <th>Number of Unique</th>\n",
       "    </tr>\n",
       "  </thead>\n",
       "  <tbody>\n",
       "    <tr>\n",
       "      <th>0</th>\n",
       "      <td>transaction_id</td>\n",
       "      <td>50599</td>\n",
       "    </tr>\n",
       "    <tr>\n",
       "      <th>1</th>\n",
       "      <td>transaction_date</td>\n",
       "      <td>181</td>\n",
       "    </tr>\n",
       "    <tr>\n",
       "      <th>2</th>\n",
       "      <td>transaction_time</td>\n",
       "      <td>11043</td>\n",
       "    </tr>\n",
       "    <tr>\n",
       "      <th>3</th>\n",
       "      <td>store_id</td>\n",
       "      <td>1</td>\n",
       "    </tr>\n",
       "    <tr>\n",
       "      <th>4</th>\n",
       "      <td>store_location</td>\n",
       "      <td>1</td>\n",
       "    </tr>\n",
       "    <tr>\n",
       "      <th>5</th>\n",
       "      <td>product_id</td>\n",
       "      <td>79</td>\n",
       "    </tr>\n",
       "    <tr>\n",
       "      <th>6</th>\n",
       "      <td>transaction_qty</td>\n",
       "      <td>2</td>\n",
       "    </tr>\n",
       "    <tr>\n",
       "      <th>7</th>\n",
       "      <td>unit_price</td>\n",
       "      <td>35</td>\n",
       "    </tr>\n",
       "    <tr>\n",
       "      <th>8</th>\n",
       "      <td>Total_Bill</td>\n",
       "      <td>48</td>\n",
       "    </tr>\n",
       "    <tr>\n",
       "      <th>9</th>\n",
       "      <td>product_category</td>\n",
       "      <td>9</td>\n",
       "    </tr>\n",
       "    <tr>\n",
       "      <th>10</th>\n",
       "      <td>product_type</td>\n",
       "      <td>29</td>\n",
       "    </tr>\n",
       "    <tr>\n",
       "      <th>11</th>\n",
       "      <td>product_detail</td>\n",
       "      <td>44</td>\n",
       "    </tr>\n",
       "    <tr>\n",
       "      <th>12</th>\n",
       "      <td>Size</td>\n",
       "      <td>4</td>\n",
       "    </tr>\n",
       "    <tr>\n",
       "      <th>13</th>\n",
       "      <td>Month Name</td>\n",
       "      <td>6</td>\n",
       "    </tr>\n",
       "    <tr>\n",
       "      <th>14</th>\n",
       "      <td>Day Name</td>\n",
       "      <td>7</td>\n",
       "    </tr>\n",
       "    <tr>\n",
       "      <th>15</th>\n",
       "      <td>Hour</td>\n",
       "      <td>13</td>\n",
       "    </tr>\n",
       "    <tr>\n",
       "      <th>16</th>\n",
       "      <td>Month</td>\n",
       "      <td>6</td>\n",
       "    </tr>\n",
       "    <tr>\n",
       "      <th>17</th>\n",
       "      <td>Day of Week</td>\n",
       "      <td>7</td>\n",
       "    </tr>\n",
       "  </tbody>\n",
       "</table>\n",
       "</div>"
      ],
      "text/plain": [
       "         Column Name  Number of Unique\n",
       "0   transaction_id    50599           \n",
       "1   transaction_date  181             \n",
       "2   transaction_time  11043           \n",
       "3   store_id          1               \n",
       "4   store_location    1               \n",
       "5   product_id        79              \n",
       "6   transaction_qty   2               \n",
       "7   unit_price        35              \n",
       "8   Total_Bill        48              \n",
       "9   product_category  9               \n",
       "10  product_type      29              \n",
       "11  product_detail    44              \n",
       "12  Size              4               \n",
       "13  Month Name        6               \n",
       "14  Day Name          7               \n",
       "15  Hour              13              \n",
       "16  Month             6               \n",
       "17  Day of Week       7               "
      ]
     },
     "execution_count": 7,
     "metadata": {},
     "output_type": "execute_result"
    }
   ],
   "source": [
    "# Menghitung total unique value pada masing masing kolom\n",
    "pd.set_option('display.max_colwidth', 1)\n",
    "\n",
    "listItem = []\n",
    "for col in df.columns :\n",
    "    listItem.append( [col, df[col].nunique()])\n",
    "\n",
    "tabel1Desc = pd.DataFrame(columns=['Column Name', 'Number of Unique'],\n",
    "                     data=listItem)\n",
    "tabel1Desc"
   ]
  },
  {
   "attachments": {},
   "cell_type": "markdown",
   "metadata": {},
   "source": [
    "# Data Cleaning\n",
    "\n",
    "Pada tahap ini, data akan dilakukan pembersihan, yaitu pengecekan missing value, duplikasi data, penyesuaian tipe data pada setiap kolom, dan penghapusan kolom yang tidak akan digunakan dalam analisis."
   ]
  },
  {
   "cell_type": "code",
   "execution_count": 8,
   "metadata": {},
   "outputs": [
    {
     "data": {
      "text/html": [
       "<div>\n",
       "<style scoped>\n",
       "    .dataframe tbody tr th:only-of-type {\n",
       "        vertical-align: middle;\n",
       "    }\n",
       "\n",
       "    .dataframe tbody tr th {\n",
       "        vertical-align: top;\n",
       "    }\n",
       "\n",
       "    .dataframe thead th {\n",
       "        text-align: right;\n",
       "    }\n",
       "</style>\n",
       "<table border=\"1\" class=\"dataframe\">\n",
       "  <thead>\n",
       "    <tr style=\"text-align: right;\">\n",
       "      <th></th>\n",
       "      <th>variable</th>\n",
       "      <th>null count</th>\n",
       "      <th>null percentage</th>\n",
       "    </tr>\n",
       "  </thead>\n",
       "  <tbody>\n",
       "    <tr>\n",
       "      <th>0</th>\n",
       "      <td>transaction_id</td>\n",
       "      <td>0</td>\n",
       "      <td>0.0</td>\n",
       "    </tr>\n",
       "    <tr>\n",
       "      <th>1</th>\n",
       "      <td>transaction_date</td>\n",
       "      <td>0</td>\n",
       "      <td>0.0</td>\n",
       "    </tr>\n",
       "    <tr>\n",
       "      <th>2</th>\n",
       "      <td>transaction_time</td>\n",
       "      <td>0</td>\n",
       "      <td>0.0</td>\n",
       "    </tr>\n",
       "    <tr>\n",
       "      <th>3</th>\n",
       "      <td>store_id</td>\n",
       "      <td>0</td>\n",
       "      <td>0.0</td>\n",
       "    </tr>\n",
       "    <tr>\n",
       "      <th>4</th>\n",
       "      <td>store_location</td>\n",
       "      <td>0</td>\n",
       "      <td>0.0</td>\n",
       "    </tr>\n",
       "    <tr>\n",
       "      <th>5</th>\n",
       "      <td>product_id</td>\n",
       "      <td>0</td>\n",
       "      <td>0.0</td>\n",
       "    </tr>\n",
       "    <tr>\n",
       "      <th>6</th>\n",
       "      <td>transaction_qty</td>\n",
       "      <td>0</td>\n",
       "      <td>0.0</td>\n",
       "    </tr>\n",
       "    <tr>\n",
       "      <th>7</th>\n",
       "      <td>unit_price</td>\n",
       "      <td>0</td>\n",
       "      <td>0.0</td>\n",
       "    </tr>\n",
       "    <tr>\n",
       "      <th>8</th>\n",
       "      <td>Total_Bill</td>\n",
       "      <td>0</td>\n",
       "      <td>0.0</td>\n",
       "    </tr>\n",
       "    <tr>\n",
       "      <th>9</th>\n",
       "      <td>product_category</td>\n",
       "      <td>0</td>\n",
       "      <td>0.0</td>\n",
       "    </tr>\n",
       "    <tr>\n",
       "      <th>10</th>\n",
       "      <td>product_type</td>\n",
       "      <td>0</td>\n",
       "      <td>0.0</td>\n",
       "    </tr>\n",
       "    <tr>\n",
       "      <th>11</th>\n",
       "      <td>product_detail</td>\n",
       "      <td>0</td>\n",
       "      <td>0.0</td>\n",
       "    </tr>\n",
       "    <tr>\n",
       "      <th>12</th>\n",
       "      <td>Size</td>\n",
       "      <td>0</td>\n",
       "      <td>0.0</td>\n",
       "    </tr>\n",
       "    <tr>\n",
       "      <th>13</th>\n",
       "      <td>Month Name</td>\n",
       "      <td>0</td>\n",
       "      <td>0.0</td>\n",
       "    </tr>\n",
       "    <tr>\n",
       "      <th>14</th>\n",
       "      <td>Day Name</td>\n",
       "      <td>0</td>\n",
       "      <td>0.0</td>\n",
       "    </tr>\n",
       "    <tr>\n",
       "      <th>15</th>\n",
       "      <td>Hour</td>\n",
       "      <td>0</td>\n",
       "      <td>0.0</td>\n",
       "    </tr>\n",
       "    <tr>\n",
       "      <th>16</th>\n",
       "      <td>Month</td>\n",
       "      <td>0</td>\n",
       "      <td>0.0</td>\n",
       "    </tr>\n",
       "    <tr>\n",
       "      <th>17</th>\n",
       "      <td>Day of Week</td>\n",
       "      <td>0</td>\n",
       "      <td>0.0</td>\n",
       "    </tr>\n",
       "  </tbody>\n",
       "</table>\n",
       "</div>"
      ],
      "text/plain": [
       "            variable  null count  null percentage\n",
       "0   transaction_id    0           0.0            \n",
       "1   transaction_date  0           0.0            \n",
       "2   transaction_time  0           0.0            \n",
       "3   store_id          0           0.0            \n",
       "4   store_location    0           0.0            \n",
       "5   product_id        0           0.0            \n",
       "6   transaction_qty   0           0.0            \n",
       "7   unit_price        0           0.0            \n",
       "8   Total_Bill        0           0.0            \n",
       "9   product_category  0           0.0            \n",
       "10  product_type      0           0.0            \n",
       "11  product_detail    0           0.0            \n",
       "12  Size              0           0.0            \n",
       "13  Month Name        0           0.0            \n",
       "14  Day Name          0           0.0            \n",
       "15  Hour              0           0.0            \n",
       "16  Month             0           0.0            \n",
       "17  Day of Week       0           0.0            "
      ]
     },
     "execution_count": 8,
     "metadata": {},
     "output_type": "execute_result"
    }
   ],
   "source": [
    "# Menghitung missing value pada data\n",
    "data_null = df.isna().sum().reset_index().rename(columns={'index':'variable',0:'null count'})\n",
    "# Menghitung presentase missing value pada data\n",
    "data_null['null percentage'] = data_null['null count'].apply(lambda x: (x/(df.shape[0]))*100)\n",
    "data_null"
   ]
  },
  {
   "attachments": {},
   "cell_type": "markdown",
   "metadata": {},
   "source": [
    "Data tidak ditemukan adanya missing value untuk dapat memahami data lebih baik saya akan mengidentifikasi unique value setiap kolom"
   ]
  },
  {
   "cell_type": "code",
   "execution_count": 9,
   "metadata": {},
   "outputs": [
    {
     "data": {
      "text/html": [
       "<div>\n",
       "<style scoped>\n",
       "    .dataframe tbody tr th:only-of-type {\n",
       "        vertical-align: middle;\n",
       "    }\n",
       "\n",
       "    .dataframe tbody tr th {\n",
       "        vertical-align: top;\n",
       "    }\n",
       "\n",
       "    .dataframe thead th {\n",
       "        text-align: right;\n",
       "    }\n",
       "</style>\n",
       "<table border=\"1\" class=\"dataframe\">\n",
       "  <thead>\n",
       "    <tr style=\"text-align: right;\">\n",
       "      <th></th>\n",
       "      <th>Column Name</th>\n",
       "      <th>Number of Unique</th>\n",
       "      <th>Unique Value</th>\n",
       "    </tr>\n",
       "  </thead>\n",
       "  <tbody>\n",
       "    <tr>\n",
       "      <th>0</th>\n",
       "      <td>transaction_id</td>\n",
       "      <td>50599</td>\n",
       "      <td>[114301, 115405, 115478, 116288, 116714, 116739, 116853, 117389, 118056, 118281, 118428, 118913, 119196, 119240, 119351, 119444, 119692, 121279, 121416, 121493, 121656, 121709, 121876, 122518, 122622, 122818, 122954, 123152, 123465, 123499, 123540, 123603, 123972, 125324, 126049, 126086, 126107, 126787, 128042, 128558, 128752, 128923, 129043, 129136, 129369, 129437, 129888, 130181, 130620, 130923, 131166, 131442, 132915, 132944, 133226, 133498, 133501, 134681, 134944, 136005, 136490, 136546, 136570, 136982, 137062, 137164, 137348, 137377, 137478, 137507, 137630, 137676, 137808, 137887, 137890, 138130, 138516, 139326, 139646, 139657, 139882, 140432, 140670, 140896, 140903, 140941, 140943, 141121, 141218, 141223, 141234, 141253, 141805, 142115, 142390, 142439, 142627, 142838, 143066, 143650, ...]</td>\n",
       "    </tr>\n",
       "    <tr>\n",
       "      <th>1</th>\n",
       "      <td>transaction_date</td>\n",
       "      <td>181</td>\n",
       "      <td>[01-06-2023, 02-06-2023, 03-06-2023, 04-06-2023, 05-06-2023, 07-06-2023, 08-06-2023, 09-06-2023, 10-06-2023, 11-06-2023, 13-06-2023, 14-06-2023, 15-06-2023, 16-06-2023, 17-06-2023, 18-06-2023, 19-06-2023, 20-06-2023, 21-06-2023, 22-06-2023, 23-06-2023, 24-06-2023, 25-06-2023, 26-06-2023, 27-06-2023, 28-06-2023, 29-06-2023, 30-06-2023, 01-05-2023, 02-05-2023, 03-05-2023, 04-05-2023, 05-05-2023, 06-05-2023, 07-05-2023, 08-05-2023, 09-05-2023, 10-05-2023, 11-05-2023, 13-05-2023, 14-05-2023, 15-05-2023, 16-05-2023, 17-05-2023, 18-05-2023, 19-05-2023, 20-05-2023, 21-05-2023, 22-05-2023, 23-05-2023, 24-05-2023, 25-05-2023, 26-05-2023, 27-05-2023, 28-05-2023, 29-05-2023, 30-05-2023, 31-05-2023, 02-03-2023, 03-03-2023, 04-03-2023, 05-03-2023, 07-03-2023, 08-03-2023, 09-03-2023, 11-03-2023, 13-03-2023, 14-03-2023, 15-03-2023, 16-03-2023, 17-03-2023, 18-03-2023, 19-03-2023, 20-03-2023, 21-03-2023, 22-03-2023, 23-03-2023, 24-03-2023, 25-03-2023, 26-03-2023, 27-03-2023, 28-03-2023, 29-03-2023, 30-03-2023, 31-03-2023, 01-04-2023, 03-04-2023, 04-04-2023, 05-04-2023, 07-04-2023, 08-04-2023, 09-04-2023, 10-04-2023, 13-04-2023, 14-04-2023, 15-04-2023, 16-04-2023, 18-04-2023, 19-04-2023, 20-04-2023, ...]</td>\n",
       "    </tr>\n",
       "    <tr>\n",
       "      <th>2</th>\n",
       "      <td>transaction_time</td>\n",
       "      <td>11043</td>\n",
       "      <td>[11:33:29, 11:18:24, 12:02:45, 19:39:47, 12:24:57, 12:44:17, 13:58:14, 18:57:29, 14:31:43, 16:30:33, 17:53:30, 12:01:03, 14:19:59, 14:42:16, 15:51:35, 16:52:40, 19:51:09, 10:16:40, 10:59:19, 12:01:18, 15:05:47, 16:17:25, 19:56:37, 11:09:47, 12:09:57, 15:00:40, 16:58:47, 19:54:56, 08:39:35, 08:55:36, 09:10:06, 09:32:40, 12:04:39, 14:03:46, 09:10:48, 09:26:48, 09:32:07, 19:17:53, 07:33:17, 10:02:57, 10:56:47, 14:16:08, 16:14:54, 17:45:45, 08:17:01, 08:30:02, 10:20:10, 14:16:04, 07:39:31, 10:45:52, 15:00:09, 17:39:04, 18:16:21, 07:44:27, 09:47:36, 09:49:01, 09:54:47, 11:39:57, 09:44:36, 15:54:25, 16:24:10, 08:34:24, 08:56:02, 09:20:53, 10:16:11, 10:25:13, 10:53:45, 11:25:36, 14:18:59, 14:54:24, 17:06:53, 19:10:06, 19:13:31, 08:19:40, 11:01:47, 11:11:44, 14:11:19, 07:49:50, 09:43:22, 11:48:23, 11:53:23, 12:33:47, 12:35:32, 15:09:25, 16:40:06, 16:45:46, 16:57:42, 17:11:50, 09:42:37, 12:39:12, 16:04:51, 16:47:14, 19:53:00, 08:05:31, 09:47:54, 17:06:33, 07:00:31, 10:52:25, 11:26:52, 15:09:55, ...]</td>\n",
       "    </tr>\n",
       "    <tr>\n",
       "      <th>3</th>\n",
       "      <td>store_id</td>\n",
       "      <td>1</td>\n",
       "      <td>[3]</td>\n",
       "    </tr>\n",
       "    <tr>\n",
       "      <th>4</th>\n",
       "      <td>store_location</td>\n",
       "      <td>1</td>\n",
       "      <td>[Astoria]</td>\n",
       "    </tr>\n",
       "    <tr>\n",
       "      <th>5</th>\n",
       "      <td>product_id</td>\n",
       "      <td>79</td>\n",
       "      <td>[45, 43, 51, 49, 47, 53, 24, 26, 37, 30, 32, 77, 23, 29, 46, 42, 44, 48, 50, 54, 52, 73, 71, 79, 36, 40, 38, 60, 58, 27, 33, 75, 74, 76, 69, 72, 70, 78, 59, 65, 64, 84, 63, 12, 11, 14, 13, 16, 15, 18, 17, 21, 19, 20, 81, 82, 83, 3, 4, 10, 9, 8, 7, 5, 6, 2, 1, 61, 55, 56, 57, 34, 35, 31, 25, 28, 22, 39, 41]</td>\n",
       "    </tr>\n",
       "    <tr>\n",
       "      <th>6</th>\n",
       "      <td>transaction_qty</td>\n",
       "      <td>2</td>\n",
       "      <td>[1, 2]</td>\n",
       "    </tr>\n",
       "    <tr>\n",
       "      <th>7</th>\n",
       "      <td>unit_price</td>\n",
       "      <td>35</td>\n",
       "      <td>[3.0, 2.5, 3.75, 3.5, 3.25, 4.5, 0.8, 8.95, 9.25, 10.95, 9.5, 13.33, 6.4, 7.6, 28.0, 23.0, 12.0, 14.0, 14.75, 20.45, 10.0, 22.5, 45.0, 19.75, 15.0, 21.0, 18.0, 4.75, 4.0, 2.55, 3.1, 2.45, 2.2, 2.0, 4.25]</td>\n",
       "    </tr>\n",
       "    <tr>\n",
       "      <th>8</th>\n",
       "      <td>Total_Bill</td>\n",
       "      <td>48</td>\n",
       "      <td>[3.0, 2.5, 3.75, 3.5, 3.25, 4.5, 0.8, 8.95, 9.25, 10.95, 9.5, 13.33, 6.4, 7.6, 28.0, 23.0, 12.0, 14.0, 14.75, 20.45, 10.0, 22.5, 45.0, 19.75, 15.0, 21.0, 18.0, 4.75, 4.0, 2.55, 3.1, 2.45, 2.2, 2.0, 4.25, 8.0, 6.2, 5.1, 6.0, 5.0, 9.0, 7.0, 7.5, 6.5, 1.6, 4.9, 4.4, 8.5]</td>\n",
       "    </tr>\n",
       "    <tr>\n",
       "      <th>9</th>\n",
       "      <td>product_category</td>\n",
       "      <td>9</td>\n",
       "      <td>[Tea, Coffee, Bakery, Drinking Chocolate, Flavours, Loose Tea, Packaged Chocolate, Branded, Coffee beans]</td>\n",
       "    </tr>\n",
       "    <tr>\n",
       "      <th>10</th>\n",
       "      <td>product_type</td>\n",
       "      <td>29</td>\n",
       "      <td>[Brewed herbal tea, Brewed Black tea, Brewed Green tea, Brewed Chai tea, Drip coffee, Organic brewed coffee, Barista Espresso, Gourmet brewed coffee, Scone, Pastry, Premium brewed coffee, Hot chocolate, Biscotti, Sugar free syrup, Regular syrup, Herbal tea, Black tea, Chai tea, Green tea, Drinking Chocolate, Organic Chocolate, Clothing, Housewares, Espresso Beans, Green beans, Organic Beans, Premium Beans, Gourmet Beans, House blend Beans]</td>\n",
       "    </tr>\n",
       "    <tr>\n",
       "      <th>11</th>\n",
       "      <td>product_detail</td>\n",
       "      <td>44</td>\n",
       "      <td>[Peppermint, Lemon Grass, Earl Grey, English Breakfast, Serenity Green Tea, Traditional Blend Chai, Our Old Time Diner Blend, Brazilian, Espresso shot, Columbian Medium Roast, Ethiopia, Oatmeal Scone, Morning Sunrise Chai, Almond Croissant, Chocolate Croissant, Jumbo Savory Scone, Jamaican Coffee River, Cappuccino, Latte, Sustainably Grown Organic, Dark chocolate, Croissant, Ginger Biscotti, Chocolate Chip Biscotti, Hazelnut Biscotti, Ginger Scone, Cranberry Scone, Scottish Cream Scone, Sugar Free Vanilla syrup, Hazelnut syrup, Chocolate syrup, Carmel syrup, Spicy Eye Opener Chai, Chili Mayan, I Need My Bean! T-shirt, I Need My Bean! Diner mug, I Need My Bean! Latte cup, Espresso Roast, Primo Espresso Roast, Guatemalan Sustainably Grown, Organic Decaf Blend, Civet Cat, Jamacian Coffee River, Brazilian - Organic]</td>\n",
       "    </tr>\n",
       "    <tr>\n",
       "      <th>12</th>\n",
       "      <td>Size</td>\n",
       "      <td>4</td>\n",
       "      <td>[Large, Regular, Not Defined, Small]</td>\n",
       "    </tr>\n",
       "    <tr>\n",
       "      <th>13</th>\n",
       "      <td>Month Name</td>\n",
       "      <td>6</td>\n",
       "      <td>[June, May, March, April, January, February]</td>\n",
       "    </tr>\n",
       "    <tr>\n",
       "      <th>14</th>\n",
       "      <td>Day Name</td>\n",
       "      <td>7</td>\n",
       "      <td>[Thursday, Friday, Saturday, Sunday, Monday, Wednesday, Tuesday]</td>\n",
       "    </tr>\n",
       "    <tr>\n",
       "      <th>15</th>\n",
       "      <td>Hour</td>\n",
       "      <td>13</td>\n",
       "      <td>[11, 12, 19, 13, 18, 14, 16, 17, 15, 10, 8, 9, 7]</td>\n",
       "    </tr>\n",
       "    <tr>\n",
       "      <th>16</th>\n",
       "      <td>Month</td>\n",
       "      <td>6</td>\n",
       "      <td>[6, 5, 3, 4, 1, 2]</td>\n",
       "    </tr>\n",
       "    <tr>\n",
       "      <th>17</th>\n",
       "      <td>Day of Week</td>\n",
       "      <td>7</td>\n",
       "      <td>[3, 4, 5, 6, 0, 2, 1]</td>\n",
       "    </tr>\n",
       "  </tbody>\n",
       "</table>\n",
       "</div>"
      ],
      "text/plain": [
       "         Column Name  Number of Unique  \\\n",
       "0   transaction_id    50599              \n",
       "1   transaction_date  181                \n",
       "2   transaction_time  11043              \n",
       "3   store_id          1                  \n",
       "4   store_location    1                  \n",
       "5   product_id        79                 \n",
       "6   transaction_qty   2                  \n",
       "7   unit_price        35                 \n",
       "8   Total_Bill        48                 \n",
       "9   product_category  9                  \n",
       "10  product_type      29                 \n",
       "11  product_detail    44                 \n",
       "12  Size              4                  \n",
       "13  Month Name        6                  \n",
       "14  Day Name          7                  \n",
       "15  Hour              13                 \n",
       "16  Month             6                  \n",
       "17  Day of Week       7                  \n",
       "\n",
       "                                                                                                                                                                                                                                                                                                                                                                                                                                                                                                                                                                                                                                                                                                                                                                                                                                                                                                                                                                                                                                                                                                                                                                                                                                             Unique Value  \n",
       "0   [114301, 115405, 115478, 116288, 116714, 116739, 116853, 117389, 118056, 118281, 118428, 118913, 119196, 119240, 119351, 119444, 119692, 121279, 121416, 121493, 121656, 121709, 121876, 122518, 122622, 122818, 122954, 123152, 123465, 123499, 123540, 123603, 123972, 125324, 126049, 126086, 126107, 126787, 128042, 128558, 128752, 128923, 129043, 129136, 129369, 129437, 129888, 130181, 130620, 130923, 131166, 131442, 132915, 132944, 133226, 133498, 133501, 134681, 134944, 136005, 136490, 136546, 136570, 136982, 137062, 137164, 137348, 137377, 137478, 137507, 137630, 137676, 137808, 137887, 137890, 138130, 138516, 139326, 139646, 139657, 139882, 140432, 140670, 140896, 140903, 140941, 140943, 141121, 141218, 141223, 141234, 141253, 141805, 142115, 142390, 142439, 142627, 142838, 143066, 143650, ...]                                                                                                                                                                                                                                                                                                                                                                                                                  \n",
       "1   [01-06-2023, 02-06-2023, 03-06-2023, 04-06-2023, 05-06-2023, 07-06-2023, 08-06-2023, 09-06-2023, 10-06-2023, 11-06-2023, 13-06-2023, 14-06-2023, 15-06-2023, 16-06-2023, 17-06-2023, 18-06-2023, 19-06-2023, 20-06-2023, 21-06-2023, 22-06-2023, 23-06-2023, 24-06-2023, 25-06-2023, 26-06-2023, 27-06-2023, 28-06-2023, 29-06-2023, 30-06-2023, 01-05-2023, 02-05-2023, 03-05-2023, 04-05-2023, 05-05-2023, 06-05-2023, 07-05-2023, 08-05-2023, 09-05-2023, 10-05-2023, 11-05-2023, 13-05-2023, 14-05-2023, 15-05-2023, 16-05-2023, 17-05-2023, 18-05-2023, 19-05-2023, 20-05-2023, 21-05-2023, 22-05-2023, 23-05-2023, 24-05-2023, 25-05-2023, 26-05-2023, 27-05-2023, 28-05-2023, 29-05-2023, 30-05-2023, 31-05-2023, 02-03-2023, 03-03-2023, 04-03-2023, 05-03-2023, 07-03-2023, 08-03-2023, 09-03-2023, 11-03-2023, 13-03-2023, 14-03-2023, 15-03-2023, 16-03-2023, 17-03-2023, 18-03-2023, 19-03-2023, 20-03-2023, 21-03-2023, 22-03-2023, 23-03-2023, 24-03-2023, 25-03-2023, 26-03-2023, 27-03-2023, 28-03-2023, 29-03-2023, 30-03-2023, 31-03-2023, 01-04-2023, 03-04-2023, 04-04-2023, 05-04-2023, 07-04-2023, 08-04-2023, 09-04-2023, 10-04-2023, 13-04-2023, 14-04-2023, 15-04-2023, 16-04-2023, 18-04-2023, 19-04-2023, 20-04-2023, ...]  \n",
       "2   [11:33:29, 11:18:24, 12:02:45, 19:39:47, 12:24:57, 12:44:17, 13:58:14, 18:57:29, 14:31:43, 16:30:33, 17:53:30, 12:01:03, 14:19:59, 14:42:16, 15:51:35, 16:52:40, 19:51:09, 10:16:40, 10:59:19, 12:01:18, 15:05:47, 16:17:25, 19:56:37, 11:09:47, 12:09:57, 15:00:40, 16:58:47, 19:54:56, 08:39:35, 08:55:36, 09:10:06, 09:32:40, 12:04:39, 14:03:46, 09:10:48, 09:26:48, 09:32:07, 19:17:53, 07:33:17, 10:02:57, 10:56:47, 14:16:08, 16:14:54, 17:45:45, 08:17:01, 08:30:02, 10:20:10, 14:16:04, 07:39:31, 10:45:52, 15:00:09, 17:39:04, 18:16:21, 07:44:27, 09:47:36, 09:49:01, 09:54:47, 11:39:57, 09:44:36, 15:54:25, 16:24:10, 08:34:24, 08:56:02, 09:20:53, 10:16:11, 10:25:13, 10:53:45, 11:25:36, 14:18:59, 14:54:24, 17:06:53, 19:10:06, 19:13:31, 08:19:40, 11:01:47, 11:11:44, 14:11:19, 07:49:50, 09:43:22, 11:48:23, 11:53:23, 12:33:47, 12:35:32, 15:09:25, 16:40:06, 16:45:46, 16:57:42, 17:11:50, 09:42:37, 12:39:12, 16:04:51, 16:47:14, 19:53:00, 08:05:31, 09:47:54, 17:06:33, 07:00:31, 10:52:25, 11:26:52, 15:09:55, ...]                                                                                                                                                                                                          \n",
       "3   [3]                                                                                                                                                                                                                                                                                                                                                                                                                                                                                                                                                                                                                                                                                                                                                                                                                                                                                                                                                                                                                                                                                                                                                                                                                                                    \n",
       "4   [Astoria]                                                                                                                                                                                                                                                                                                                                                                                                                                                                                                                                                                                                                                                                                                                                                                                                                                                                                                                                                                                                                                                                                                                                                                                                                                              \n",
       "5   [45, 43, 51, 49, 47, 53, 24, 26, 37, 30, 32, 77, 23, 29, 46, 42, 44, 48, 50, 54, 52, 73, 71, 79, 36, 40, 38, 60, 58, 27, 33, 75, 74, 76, 69, 72, 70, 78, 59, 65, 64, 84, 63, 12, 11, 14, 13, 16, 15, 18, 17, 21, 19, 20, 81, 82, 83, 3, 4, 10, 9, 8, 7, 5, 6, 2, 1, 61, 55, 56, 57, 34, 35, 31, 25, 28, 22, 39, 41]                                                                                                                                                                                                                                                                                                                                                                                                                                                                                                                                                                                                                                                                                                                                                                                                                                                                                                                                    \n",
       "6   [1, 2]                                                                                                                                                                                                                                                                                                                                                                                                                                                                                                                                                                                                                                                                                                                                                                                                                                                                                                                                                                                                                                                                                                                                                                                                                                                 \n",
       "7   [3.0, 2.5, 3.75, 3.5, 3.25, 4.5, 0.8, 8.95, 9.25, 10.95, 9.5, 13.33, 6.4, 7.6, 28.0, 23.0, 12.0, 14.0, 14.75, 20.45, 10.0, 22.5, 45.0, 19.75, 15.0, 21.0, 18.0, 4.75, 4.0, 2.55, 3.1, 2.45, 2.2, 2.0, 4.25]                                                                                                                                                                                                                                                                                                                                                                                                                                                                                                                                                                                                                                                                                                                                                                                                                                                                                                                                                                                                                                            \n",
       "8   [3.0, 2.5, 3.75, 3.5, 3.25, 4.5, 0.8, 8.95, 9.25, 10.95, 9.5, 13.33, 6.4, 7.6, 28.0, 23.0, 12.0, 14.0, 14.75, 20.45, 10.0, 22.5, 45.0, 19.75, 15.0, 21.0, 18.0, 4.75, 4.0, 2.55, 3.1, 2.45, 2.2, 2.0, 4.25, 8.0, 6.2, 5.1, 6.0, 5.0, 9.0, 7.0, 7.5, 6.5, 1.6, 4.9, 4.4, 8.5]                                                                                                                                                                                                                                                                                                                                                                                                                                                                                                                                                                                                                                                                                                                                                                                                                                                                                                                                                                           \n",
       "9   [Tea, Coffee, Bakery, Drinking Chocolate, Flavours, Loose Tea, Packaged Chocolate, Branded, Coffee beans]                                                                                                                                                                                                                                                                                                                                                                                                                                                                                                                                                                                                                                                                                                                                                                                                                                                                                                                                                                                                                                                                                                                                              \n",
       "10  [Brewed herbal tea, Brewed Black tea, Brewed Green tea, Brewed Chai tea, Drip coffee, Organic brewed coffee, Barista Espresso, Gourmet brewed coffee, Scone, Pastry, Premium brewed coffee, Hot chocolate, Biscotti, Sugar free syrup, Regular syrup, Herbal tea, Black tea, Chai tea, Green tea, Drinking Chocolate, Organic Chocolate, Clothing, Housewares, Espresso Beans, Green beans, Organic Beans, Premium Beans, Gourmet Beans, House blend Beans]                                                                                                                                                                                                                                                                                                                                                                                                                                                                                                                                                                                                                                                                                                                                                                                            \n",
       "11  [Peppermint, Lemon Grass, Earl Grey, English Breakfast, Serenity Green Tea, Traditional Blend Chai, Our Old Time Diner Blend, Brazilian, Espresso shot, Columbian Medium Roast, Ethiopia, Oatmeal Scone, Morning Sunrise Chai, Almond Croissant, Chocolate Croissant, Jumbo Savory Scone, Jamaican Coffee River, Cappuccino, Latte, Sustainably Grown Organic, Dark chocolate, Croissant, Ginger Biscotti, Chocolate Chip Biscotti, Hazelnut Biscotti, Ginger Scone, Cranberry Scone, Scottish Cream Scone, Sugar Free Vanilla syrup, Hazelnut syrup, Chocolate syrup, Carmel syrup, Spicy Eye Opener Chai, Chili Mayan, I Need My Bean! T-shirt, I Need My Bean! Diner mug, I Need My Bean! Latte cup, Espresso Roast, Primo Espresso Roast, Guatemalan Sustainably Grown, Organic Decaf Blend, Civet Cat, Jamacian Coffee River, Brazilian - Organic]                                                                                                                                                                                                                                                                                                                                                                                                \n",
       "12  [Large, Regular, Not Defined, Small]                                                                                                                                                                                                                                                                                                                                                                                                                                                                                                                                                                                                                                                                                                                                                                                                                                                                                                                                                                                                                                                                                                                                                                                                                   \n",
       "13  [June, May, March, April, January, February]                                                                                                                                                                                                                                                                                                                                                                                                                                                                                                                                                                                                                                                                                                                                                                                                                                                                                                                                                                                                                                                                                                                                                                                                           \n",
       "14  [Thursday, Friday, Saturday, Sunday, Monday, Wednesday, Tuesday]                                                                                                                                                                                                                                                                                                                                                                                                                                                                                                                                                                                                                                                                                                                                                                                                                                                                                                                                                                                                                                                                                                                                                                                       \n",
       "15  [11, 12, 19, 13, 18, 14, 16, 17, 15, 10, 8, 9, 7]                                                                                                                                                                                                                                                                                                                                                                                                                                                                                                                                                                                                                                                                                                                                                                                                                                                                                                                                                                                                                                                                                                                                                                                                      \n",
       "16  [6, 5, 3, 4, 1, 2]                                                                                                                                                                                                                                                                                                                                                                                                                                                                                                                                                                                                                                                                                                                                                                                                                                                                                                                                                                                                                                                                                                                                                                                                                                     \n",
       "17  [3, 4, 5, 6, 0, 2, 1]                                                                                                                                                                                                                                                                                                                                                                                                                                                                                                                                                                                                                                                                                                                                                                                                                                                                                                                                                                                                                                                                                                                                                                                                                                  "
      ]
     },
     "execution_count": 9,
     "metadata": {},
     "output_type": "execute_result"
    }
   ],
   "source": [
    "# menampilkan unique value pada data dan total unique value pada data\n",
    "pd.set_option('display.max_colwidth', 1)\n",
    "listItem = []\n",
    "for i,col in enumerate(df.columns) :\n",
    "    listItem.append( [col, df[col].nunique(), df[col].unique()])\n",
    "    \n",
    "\n",
    "tabel1Desc = pd.DataFrame(columns=['Column Name', 'Number of Unique', 'Unique Value'],data=listItem)\n",
    "tabel1Desc"
   ]
  },
  {
   "cell_type": "code",
   "execution_count": 10,
   "metadata": {},
   "outputs": [
    {
     "name": "stdout",
     "output_type": "stream",
     "text": [
      "<class 'pandas.core.frame.DataFrame'>\n",
      "Index: 50599 entries, 0 to 145800\n",
      "Data columns (total 18 columns):\n",
      " #   Column            Non-Null Count  Dtype  \n",
      "---  ------            --------------  -----  \n",
      " 0   transaction_id    50599 non-null  int64  \n",
      " 1   transaction_date  50599 non-null  object \n",
      " 2   transaction_time  50599 non-null  object \n",
      " 3   store_id          50599 non-null  int64  \n",
      " 4   store_location    50599 non-null  object \n",
      " 5   product_id        50599 non-null  int64  \n",
      " 6   transaction_qty   50599 non-null  int64  \n",
      " 7   unit_price        50599 non-null  float64\n",
      " 8   Total_Bill        50599 non-null  float64\n",
      " 9   product_category  50599 non-null  object \n",
      " 10  product_type      50599 non-null  object \n",
      " 11  product_detail    50599 non-null  object \n",
      " 12  Size              50599 non-null  object \n",
      " 13  Month Name        50599 non-null  object \n",
      " 14  Day Name          50599 non-null  object \n",
      " 15  Hour              50599 non-null  int64  \n",
      " 16  Month             50599 non-null  int64  \n",
      " 17  Day of Week       50599 non-null  int64  \n",
      "dtypes: float64(2), int64(7), object(9)\n",
      "memory usage: 7.3+ MB\n"
     ]
    }
   ],
   "source": [
    "# Menampilkan info data\n",
    "df.info()"
   ]
  },
  {
   "attachments": {},
   "cell_type": "markdown",
   "metadata": {},
   "source": [
    "Data belum sesuai dengan tipe yang seharusnya maka akan dilakukan penanganan tentang hal tersebut yaitu mengkonversi transaction_data, transaction_time"
   ]
  },
  {
   "cell_type": "code",
   "execution_count": 11,
   "metadata": {},
   "outputs": [],
   "source": [
    "# Mengganti tipe data menjadi datetime\n",
    "df['transaction_date'] = pd.to_datetime(df['transaction_date'], format='%d-%m-%Y')\n",
    "df['transaction_time'] = pd.to_timedelta(df['transaction_time'])"
   ]
  },
  {
   "cell_type": "code",
   "execution_count": 12,
   "metadata": {},
   "outputs": [
    {
     "name": "stdout",
     "output_type": "stream",
     "text": [
      "<class 'pandas.core.frame.DataFrame'>\n",
      "Index: 50599 entries, 0 to 145800\n",
      "Data columns (total 18 columns):\n",
      " #   Column            Non-Null Count  Dtype          \n",
      "---  ------            --------------  -----          \n",
      " 0   transaction_id    50599 non-null  int64          \n",
      " 1   transaction_date  50599 non-null  datetime64[ns] \n",
      " 2   transaction_time  50599 non-null  timedelta64[ns]\n",
      " 3   store_id          50599 non-null  int64          \n",
      " 4   store_location    50599 non-null  object         \n",
      " 5   product_id        50599 non-null  int64          \n",
      " 6   transaction_qty   50599 non-null  int64          \n",
      " 7   unit_price        50599 non-null  float64        \n",
      " 8   Total_Bill        50599 non-null  float64        \n",
      " 9   product_category  50599 non-null  object         \n",
      " 10  product_type      50599 non-null  object         \n",
      " 11  product_detail    50599 non-null  object         \n",
      " 12  Size              50599 non-null  object         \n",
      " 13  Month Name        50599 non-null  object         \n",
      " 14  Day Name          50599 non-null  object         \n",
      " 15  Hour              50599 non-null  int64          \n",
      " 16  Month             50599 non-null  int64          \n",
      " 17  Day of Week       50599 non-null  int64          \n",
      "dtypes: datetime64[ns](1), float64(2), int64(7), object(7), timedelta64[ns](1)\n",
      "memory usage: 7.3+ MB\n"
     ]
    }
   ],
   "source": [
    "# Cek kembali \n",
    "df.info()"
   ]
  },
  {
   "attachments": {},
   "cell_type": "markdown",
   "metadata": {},
   "source": [
    "Pada kolom `Size` ditemukan value `Not Defined`, value tersebut dapat di artikan sebagai pembelian barang yang tidak memiliki size pilihan lain seperti makanan atau minuman spesial."
   ]
  },
  {
   "cell_type": "code",
   "execution_count": 13,
   "metadata": {},
   "outputs": [
    {
     "data": {
      "text/plain": [
       "Size\n",
       "Regular        16443\n",
       "Large          16136\n",
       "Not Defined    12978\n",
       "Small          5042 \n",
       "Name: count, dtype: int64"
      ]
     },
     "execution_count": 13,
     "metadata": {},
     "output_type": "execute_result"
    }
   ],
   "source": [
    "# Cek unique value pada kolom Size\n",
    "df['Size'].value_counts()"
   ]
  },
  {
   "cell_type": "code",
   "execution_count": 14,
   "metadata": {},
   "outputs": [
    {
     "data": {
      "text/html": [
       "<div>\n",
       "<style scoped>\n",
       "    .dataframe tbody tr th:only-of-type {\n",
       "        vertical-align: middle;\n",
       "    }\n",
       "\n",
       "    .dataframe tbody tr th {\n",
       "        vertical-align: top;\n",
       "    }\n",
       "\n",
       "    .dataframe thead th {\n",
       "        text-align: right;\n",
       "    }\n",
       "</style>\n",
       "<table border=\"1\" class=\"dataframe\">\n",
       "  <thead>\n",
       "    <tr style=\"text-align: right;\">\n",
       "      <th>Size</th>\n",
       "      <th>Large</th>\n",
       "      <th>Not Defined</th>\n",
       "      <th>Regular</th>\n",
       "      <th>Small</th>\n",
       "    </tr>\n",
       "    <tr>\n",
       "      <th>product_category</th>\n",
       "      <th></th>\n",
       "      <th></th>\n",
       "      <th></th>\n",
       "      <th></th>\n",
       "    </tr>\n",
       "  </thead>\n",
       "  <tbody>\n",
       "    <tr>\n",
       "      <th>Bakery</th>\n",
       "      <td>0</td>\n",
       "      <td>7289</td>\n",
       "      <td>0</td>\n",
       "      <td>0</td>\n",
       "    </tr>\n",
       "    <tr>\n",
       "      <th>Branded</th>\n",
       "      <td>0</td>\n",
       "      <td>279</td>\n",
       "      <td>0</td>\n",
       "      <td>0</td>\n",
       "    </tr>\n",
       "    <tr>\n",
       "      <th>Coffee</th>\n",
       "      <td>5873</td>\n",
       "      <td>2964</td>\n",
       "      <td>6146</td>\n",
       "      <td>5042</td>\n",
       "    </tr>\n",
       "    <tr>\n",
       "      <th>Coffee beans</th>\n",
       "      <td>0</td>\n",
       "      <td>502</td>\n",
       "      <td>0</td>\n",
       "      <td>0</td>\n",
       "    </tr>\n",
       "    <tr>\n",
       "      <th>Drinking Chocolate</th>\n",
       "      <td>2247</td>\n",
       "      <td>0</td>\n",
       "      <td>2053</td>\n",
       "      <td>0</td>\n",
       "    </tr>\n",
       "    <tr>\n",
       "      <th>Flavours</th>\n",
       "      <td>0</td>\n",
       "      <td>1490</td>\n",
       "      <td>0</td>\n",
       "      <td>0</td>\n",
       "    </tr>\n",
       "    <tr>\n",
       "      <th>Loose Tea</th>\n",
       "      <td>0</td>\n",
       "      <td>344</td>\n",
       "      <td>0</td>\n",
       "      <td>0</td>\n",
       "    </tr>\n",
       "    <tr>\n",
       "      <th>Packaged Chocolate</th>\n",
       "      <td>0</td>\n",
       "      <td>110</td>\n",
       "      <td>0</td>\n",
       "      <td>0</td>\n",
       "    </tr>\n",
       "    <tr>\n",
       "      <th>Tea</th>\n",
       "      <td>8016</td>\n",
       "      <td>0</td>\n",
       "      <td>8244</td>\n",
       "      <td>0</td>\n",
       "    </tr>\n",
       "  </tbody>\n",
       "</table>\n",
       "</div>"
      ],
      "text/plain": [
       "Size                Large  Not Defined  Regular  Small\n",
       "product_category                                      \n",
       "Bakery              0      7289         0        0    \n",
       "Branded             0      279          0        0    \n",
       "Coffee              5873   2964         6146     5042 \n",
       "Coffee beans        0      502          0        0    \n",
       "Drinking Chocolate  2247   0            2053     0    \n",
       "Flavours            0      1490         0        0    \n",
       "Loose Tea           0      344          0        0    \n",
       "Packaged Chocolate  0      110          0        0    \n",
       "Tea                 8016   0            8244     0    "
      ]
     },
     "execution_count": 14,
     "metadata": {},
     "output_type": "execute_result"
    }
   ],
   "source": [
    "# Melakukan crosstabulasi\n",
    "pd.crosstab(index=df['product_category'],columns=df['Size'])"
   ]
  },
  {
   "attachments": {},
   "cell_type": "markdown",
   "metadata": {},
   "source": [
    "`Not Defined` terdapat pada size coffee pada saat ini, data tidak akan di buang karna akan mempengaruhi analisa sales dan transaksi penjualan. Data nanti akan difilter ketika melakukan analisa terhadap size cup yang ada."
   ]
  },
  {
   "cell_type": "code",
   "execution_count": 15,
   "metadata": {},
   "outputs": [
    {
     "name": "stdout",
     "output_type": "stream",
     "text": [
      "Jumlah data duplikat: 0\n"
     ]
    }
   ],
   "source": [
    "# Check Duplicates\n",
    "print('Jumlah data duplikat:', df.duplicated().sum())"
   ]
  },
  {
   "attachments": {},
   "cell_type": "markdown",
   "metadata": {},
   "source": [
    "tidak ditemukan duplikasi dalam data"
   ]
  },
  {
   "cell_type": "code",
   "execution_count": 16,
   "metadata": {},
   "outputs": [],
   "source": [
    "# Drop col\n",
    "kolom = ['store_id','store_location','Month','Day of Week','product_id','transaction_time','product_type','transaction_id']\n",
    "df.drop(columns=kolom,inplace=True)"
   ]
  },
  {
   "attachments": {},
   "cell_type": "markdown",
   "metadata": {},
   "source": [
    "Drop kolom yang tidak dibutuhkan dalam analisis"
   ]
  },
  {
   "cell_type": "code",
   "execution_count": 17,
   "metadata": {},
   "outputs": [],
   "source": [
    "# Save csv file\n",
    "df.to_csv('clean_data.csv',index=False)"
   ]
  },
  {
   "attachments": {},
   "cell_type": "markdown",
   "metadata": {},
   "source": [
    "Data yang sudah bersih di simpan untuk digunakan dalam visualisasi dasboard"
   ]
  },
  {
   "cell_type": "code",
   "execution_count": 18,
   "metadata": {},
   "outputs": [
    {
     "data": {
      "text/html": [
       "<div>\n",
       "<style scoped>\n",
       "    .dataframe tbody tr th:only-of-type {\n",
       "        vertical-align: middle;\n",
       "    }\n",
       "\n",
       "    .dataframe tbody tr th {\n",
       "        vertical-align: top;\n",
       "    }\n",
       "\n",
       "    .dataframe thead th {\n",
       "        text-align: right;\n",
       "    }\n",
       "</style>\n",
       "<table border=\"1\" class=\"dataframe\">\n",
       "  <thead>\n",
       "    <tr style=\"text-align: right;\">\n",
       "      <th></th>\n",
       "      <th>transaction_date</th>\n",
       "      <th>transaction_qty</th>\n",
       "      <th>unit_price</th>\n",
       "      <th>Total_Bill</th>\n",
       "      <th>product_category</th>\n",
       "      <th>product_detail</th>\n",
       "      <th>Size</th>\n",
       "      <th>Month Name</th>\n",
       "      <th>Day Name</th>\n",
       "      <th>Hour</th>\n",
       "    </tr>\n",
       "  </thead>\n",
       "  <tbody>\n",
       "    <tr>\n",
       "      <th>0</th>\n",
       "      <td>2023-06-01</td>\n",
       "      <td>1</td>\n",
       "      <td>3.0</td>\n",
       "      <td>3.0</td>\n",
       "      <td>Tea</td>\n",
       "      <td>Peppermint</td>\n",
       "      <td>Large</td>\n",
       "      <td>June</td>\n",
       "      <td>Thursday</td>\n",
       "      <td>11</td>\n",
       "    </tr>\n",
       "    <tr>\n",
       "      <th>1</th>\n",
       "      <td>2023-06-02</td>\n",
       "      <td>1</td>\n",
       "      <td>3.0</td>\n",
       "      <td>3.0</td>\n",
       "      <td>Tea</td>\n",
       "      <td>Peppermint</td>\n",
       "      <td>Large</td>\n",
       "      <td>June</td>\n",
       "      <td>Friday</td>\n",
       "      <td>11</td>\n",
       "    </tr>\n",
       "    <tr>\n",
       "      <th>2</th>\n",
       "      <td>2023-06-02</td>\n",
       "      <td>1</td>\n",
       "      <td>3.0</td>\n",
       "      <td>3.0</td>\n",
       "      <td>Tea</td>\n",
       "      <td>Peppermint</td>\n",
       "      <td>Large</td>\n",
       "      <td>June</td>\n",
       "      <td>Friday</td>\n",
       "      <td>12</td>\n",
       "    </tr>\n",
       "    <tr>\n",
       "      <th>3</th>\n",
       "      <td>2023-06-02</td>\n",
       "      <td>1</td>\n",
       "      <td>3.0</td>\n",
       "      <td>3.0</td>\n",
       "      <td>Tea</td>\n",
       "      <td>Peppermint</td>\n",
       "      <td>Large</td>\n",
       "      <td>June</td>\n",
       "      <td>Friday</td>\n",
       "      <td>19</td>\n",
       "    </tr>\n",
       "    <tr>\n",
       "      <th>4</th>\n",
       "      <td>2023-06-03</td>\n",
       "      <td>1</td>\n",
       "      <td>3.0</td>\n",
       "      <td>3.0</td>\n",
       "      <td>Tea</td>\n",
       "      <td>Peppermint</td>\n",
       "      <td>Large</td>\n",
       "      <td>June</td>\n",
       "      <td>Saturday</td>\n",
       "      <td>12</td>\n",
       "    </tr>\n",
       "  </tbody>\n",
       "</table>\n",
       "</div>"
      ],
      "text/plain": [
       "  transaction_date  transaction_qty  unit_price  Total_Bill product_category  \\\n",
       "0 2023-06-01        1                3.0         3.0         Tea               \n",
       "1 2023-06-02        1                3.0         3.0         Tea               \n",
       "2 2023-06-02        1                3.0         3.0         Tea               \n",
       "3 2023-06-02        1                3.0         3.0         Tea               \n",
       "4 2023-06-03        1                3.0         3.0         Tea               \n",
       "\n",
       "  product_detail   Size Month Name  Day Name  Hour  \n",
       "0  Peppermint     Large  June       Thursday  11    \n",
       "1  Peppermint     Large  June       Friday    11    \n",
       "2  Peppermint     Large  June       Friday    12    \n",
       "3  Peppermint     Large  June       Friday    19    \n",
       "4  Peppermint     Large  June       Saturday  12    "
      ]
     },
     "execution_count": 18,
     "metadata": {},
     "output_type": "execute_result"
    }
   ],
   "source": [
    "# Menampilkan data yang sudah bersih\n",
    "df.head()"
   ]
  },
  {
   "attachments": {},
   "cell_type": "markdown",
   "metadata": {},
   "source": [
    "# Analisis Dan Perhitungan\n",
    "\n",
    "Pada tahap ini dilakukan analisa statistik dan visualisasi untuk menjawab penjabaran masalah."
   ]
  },
  {
   "attachments": {},
   "cell_type": "markdown",
   "metadata": {},
   "source": [
    "## Bagaimana performa penjualan di coffee shop?"
   ]
  },
  {
   "cell_type": "code",
   "execution_count": 19,
   "metadata": {},
   "outputs": [
    {
     "data": {
      "text/plain": [
       "Month Name\n",
       "April       39477.61\n",
       "February    25105.34\n",
       "January     27313.66\n",
       "June        55083.11\n",
       "March       32835.43\n",
       "May         52428.76\n",
       "Name: Total_Bill, dtype: float64"
      ]
     },
     "execution_count": 19,
     "metadata": {},
     "output_type": "execute_result"
    }
   ],
   "source": [
    "# Mengelompokan gross profit berdasarkan bulan\n",
    "df.groupby('Month Name', observed=True)['Total_Bill'].sum()"
   ]
  },
  {
   "cell_type": "code",
   "execution_count": 20,
   "metadata": {},
   "outputs": [
    {
     "data": {
      "image/png": "[encoded data removed]",
      "text/plain": [
       "<Figure size 2500x1000 with 1 Axes>"
      ]
     },
     "metadata": {},
     "output_type": "display_data"
    }
   ],
   "source": [
    "# Menentukan urutan bulan\n",
    "bulan_urutan = ['January', 'February', 'March', 'April', 'May', 'June']\n",
    "\n",
    "# Mengelompokkan total penjualan berdasarkan bulan\n",
    "total_penjualan_per_bulan = df.groupby('Month Name', observed=True)['Total_Bill'].sum()\n",
    "\n",
    "# Membuat plot line\n",
    "plt.figure(figsize=(25, 10))\n",
    "plt.plot(bulan_urutan, total_penjualan_per_bulan[bulan_urutan], marker='o', color='#8B4513')\n",
    "plt.title('Revenue By Month')\n",
    "plt.xlabel('Month')\n",
    "plt.ylabel('Gross Income ($)')\n",
    "plt.grid(True)\n",
    "\n",
    "# Menemukan nilai tertinggi dan terendah\n",
    "nilai_tertinggi = total_penjualan_per_bulan.max()\n",
    "bulan_tertinggi = total_penjualan_per_bulan.idxmax()\n",
    "nilai_terendah = total_penjualan_per_bulan.min()\n",
    "bulan_terendah = total_penjualan_per_bulan.idxmin()\n",
    "\n",
    "nilai_tertinggi_str = '${:,.0f}K'.format(nilai_tertinggi / 1000)\n",
    "nilai_terendah_str = '${:,.0f}K'.format(nilai_terendah / 1000)\n",
    "\n",
    "# Menambahkan label ke titik tertinggi dan terendah\n",
    "plt.text(bulan_tertinggi, nilai_tertinggi, nilai_tertinggi_str, ha='center', va='bottom', fontsize=14)\n",
    "plt.text(bulan_terendah, nilai_terendah, nilai_terendah_str, ha='center', va='bottom', fontsize=14)\n",
    "\n",
    "\n",
    "plt.savefig('revenue.png')\n",
    "# Menampilkan plot\n",
    "plt.show()"
   ]
  },
  {
   "attachments": {},
   "cell_type": "markdown",
   "metadata": {},
   "source": [
    "Line plot gross profit coffee shop menampilkan profit setiap bulan. Profit terendah terjadi pada bulan Februari sebesar `$25.105,34`, sementara profit tertinggi terjadi pada bulan Juni sebesar `$55.083,11`. Meskipun terjadi penurunan pada bulan Februari, penjualan coffee shop tetap menunjukkan tren positif setelahnya."
   ]
  },
  {
   "attachments": {},
   "cell_type": "markdown",
   "metadata": {},
   "source": [
    "## Bagaimana distribusi data, rata-rata, modus, dan median harga tiap produk?"
   ]
  },
  {
   "attachments": {},
   "cell_type": "markdown",
   "metadata": {},
   "source": [
    "Perhitungan ini bertujuan untuk mengidentifikasi distribusi pada kolom. Hasil perhitungan ini akan menjadi acuan untuk menentukan metode analisis inferensial yang akan digunakan."
   ]
  },
  {
   "cell_type": "code",
   "execution_count": 21,
   "metadata": {},
   "outputs": [
    {
     "name": "stdout",
     "output_type": "stream",
     "text": [
      "Rata-rata unit_price: 3.38\n",
      "Median unit_price: 3.0\n",
      "Modus unit_price: 3.0\n",
      "Skewness unit_price 8.532051824613182\n",
      "Kurtosis unit_price 99.23147540550113\n"
     ]
    }
   ],
   "source": [
    "# Central tendency kolom harga setiap produk\n",
    "print('Rata-rata unit_price:',df['unit_price'].mean().round(2))\n",
    "print('Median unit_price:',df['unit_price'].median())\n",
    "print('Modus unit_price:',df['unit_price'].mode().values[0])\n",
    "print('Skewness unit_price',df['unit_price'].skew())\n",
    "print('Kurtosis unit_price',df['unit_price'].kurtosis())"
   ]
  },
  {
   "attachments": {},
   "cell_type": "markdown",
   "metadata": {},
   "source": [
    "- Skewness pada kolom `unit_price` menunjukan `Positive Skew` dengan nilai `8.53` yang berarti distribusi pada data `Highly skewed`\n",
    "- Kurtosis pada kolom `unit_price` menunjukan `Leptokurtic distribution` dengan nilai `99.23` yang berarti data memiliki outliers yang banyak atau memiliki extrime value \n",
    "- `unit_price` memiliki skewness yang lebih dari `1` maka untuk mendeteksi outliers dapat mengunakan teknik `Tukey's Rule`"
   ]
  },
  {
   "cell_type": "code",
   "execution_count": 22,
   "metadata": {},
   "outputs": [
    {
     "data": {
      "text/plain": [
       "<Axes: ylabel='Frequency'>"
      ]
     },
     "execution_count": 22,
     "metadata": {},
     "output_type": "execute_result"
    },
    {
     "data": {
      "image/png": "[encoded data removed]",
      "text/plain": [
       "<Figure size 640x480 with 1 Axes>"
      ]
     },
     "metadata": {},
     "output_type": "display_data"
    }
   ],
   "source": [
    "# Membuat plot untuk melihat outlier dan sebaran data\n",
    "df['Total_Bill'].plot(kind='hist',bins=20)"
   ]
  },
  {
   "attachments": {},
   "cell_type": "markdown",
   "metadata": {},
   "source": [
    "- terbukti bahwah harga tiap produk terdistribusi tidak normal dan memiliki outlier dan extreme value serta adanya outlier."
   ]
  },
  {
   "cell_type": "code",
   "execution_count": 23,
   "metadata": {},
   "outputs": [
    {
     "name": "stdout",
     "output_type": "stream",
     "text": [
      "Upper Boundary unit_price: 5.62\n",
      "Lower Boundary unit_price: 0.62\n",
      "jumlah outlier :1235\n",
      "jumlah bukan outlier :49364\n",
      "Persentase outlier dalam data kolom unit_price: 2.440759698808277 %\n"
     ]
    }
   ],
   "source": [
    "# Mencari outlier pada kolom harga produk\n",
    "q1 = df['unit_price'].quantile(0.25)\n",
    "q3 = df['unit_price'].quantile(0.75)\n",
    "iqr = q3-q1\n",
    "\n",
    "up_bound = q3 + (1.5*iqr)\n",
    "low_bound = q1 - (1.5*iqr)\n",
    "\n",
    "outlier = df['unit_price'][(df['unit_price']<low_bound) | (df['unit_price']>up_bound)]\n",
    "no_outlier = df['unit_price'][(df['unit_price']>=low_bound) & (df['unit_price']<=up_bound)]\n",
    "\n",
    "\n",
    "print(f'Upper Boundary unit_price: {up_bound:.2f}' )\n",
    "print(f'Lower Boundary unit_price: {low_bound:.2f}')\n",
    "print(f'jumlah outlier :{len(outlier)}')\n",
    "print(f'jumlah bukan outlier :{len(no_outlier)}')\n",
    "print('Persentase outlier dalam data kolom unit_price:', len(outlier)/df.shape[0]*100, '%')"
   ]
  },
  {
   "attachments": {},
   "cell_type": "markdown",
   "metadata": {},
   "source": [
    "- Presentase Outlier pada data sebesar `2.44 %` atau tergolong kecil, outlier yang ada akan di abaikan.\n"
   ]
  },
  {
   "attachments": {},
   "cell_type": "markdown",
   "metadata": {},
   "source": [
    "## Bagaimana distribusi data, rata-rata, modus, dan median transaksi tiap produk?"
   ]
  },
  {
   "attachments": {},
   "cell_type": "markdown",
   "metadata": {},
   "source": [
    "Perhitungan ini bertujuan untuk mengidentifikasi distribusi pada kolom. Hasil perhitungan ini akan menjadi acuan untuk menentukan metode analisis inferensial yang akan digunakan."
   ]
  },
  {
   "cell_type": "code",
   "execution_count": 24,
   "metadata": {},
   "outputs": [
    {
     "name": "stdout",
     "output_type": "stream",
     "text": [
      "Rata-rata transaction_qty: 1.4\n",
      "Median transaction_qty: 1.0\n",
      "Modus transaction_qty: 1\n",
      "Skewness transaction_qty 0.39547539619749555\n",
      "Kurtosis transaction_qty -1.843672086419541\n"
     ]
    }
   ],
   "source": [
    "# Menghitung central tendency, kurtosis, dan skewness\n",
    "print('Rata-rata transaction_qty:',df['transaction_qty'].mean().round(2))\n",
    "print('Median transaction_qty:',df['transaction_qty'].median())\n",
    "print('Modus transaction_qty:',df['transaction_qty'].mode().values[0])\n",
    "print('Skewness transaction_qty',df['transaction_qty'].skew())\n",
    "print('Kurtosis transaction_qty',df['transaction_qty'].kurtosis())"
   ]
  },
  {
   "attachments": {},
   "cell_type": "markdown",
   "metadata": {},
   "source": [
    "- Skewness pada kolom `transaction_qty` menunjukkan nilai `0.39`, yang menandakan adanya kecenderungan distribusi yang cenderung simetris.\n",
    "- Kurtosis pada kolom `transaction_qty` menunjukkan nilai `-1.84`, mengindikasikan distribusi yang datar atau platykurtic, yang dapat menunjukkan adanya sedikit outlier atau nilai ekstrem dalam data."
   ]
  },
  {
   "cell_type": "code",
   "execution_count": 25,
   "metadata": {},
   "outputs": [
    {
     "data": {
      "text/plain": [
       "<Axes: ylabel='Frequency'>"
      ]
     },
     "execution_count": 25,
     "metadata": {},
     "output_type": "execute_result"
    },
    {
     "data": {
      "image/png": "[encoded data removed]",
      "text/plain": [
       "<Figure size 640x480 with 1 Axes>"
      ]
     },
     "metadata": {},
     "output_type": "display_data"
    }
   ],
   "source": [
    "# Membuat plot untuk melihat outlier\n",
    "df['transaction_qty'].plot(kind='hist')"
   ]
  },
  {
   "attachments": {},
   "cell_type": "markdown",
   "metadata": {},
   "source": [
    "- Sebaran data pada kolom 'transaction_qty' terbukti cenderung simetris."
   ]
  },
  {
   "cell_type": "code",
   "execution_count": 26,
   "metadata": {},
   "outputs": [
    {
     "name": "stdout",
     "output_type": "stream",
     "text": [
      "Upper Boundary transaction_qty: 3.50\n",
      "Lower Boundary transaction_qty: -0.50\n",
      "jumlah outlier :0\n",
      "jumlah bukan outlier :50599\n",
      "Persentase outlier dalam data kolom transaction_qty: 0.0 %\n"
     ]
    }
   ],
   "source": [
    "# Mencari outlier pada kolom transction_qty\n",
    "q1 = df['transaction_qty'].quantile(0.25)\n",
    "q3 = df['transaction_qty'].quantile(0.75)\n",
    "iqr = q3-q1\n",
    "\n",
    "up_bound = q3 + (1.5*iqr)\n",
    "low_bound = q1 - (1.5*iqr)\n",
    "\n",
    "outlier = df['transaction_qty'][(df['transaction_qty']<low_bound) | (df['transaction_qty']>up_bound)]\n",
    "no_outlier = df['transaction_qty'][(df['transaction_qty']>=low_bound) & (df['transaction_qty']<=up_bound)]\n",
    "\n",
    "\n",
    "print(f'Upper Boundary transaction_qty: {up_bound:.2f}' )\n",
    "print(f'Lower Boundary transaction_qty: {low_bound:.2f}')\n",
    "print(f'jumlah outlier :{len(outlier)}')\n",
    "print(f'jumlah bukan outlier :{len(no_outlier)}')\n",
    "print('Persentase outlier dalam data kolom transaction_qty:', len(outlier)/df.shape[0]*100, '%')"
   ]
  },
  {
   "attachments": {},
   "cell_type": "markdown",
   "metadata": {},
   "source": [
    "Jumlah outlier pada kolom transaction_qty tidak ada dikarenakan value yang ada hanyalah 1 dan 2"
   ]
  },
  {
   "attachments": {},
   "cell_type": "markdown",
   "metadata": {},
   "source": [
    "## Adakah perbedaan transaksi yang signifikan antara kategori produk?"
   ]
  },
  {
   "attachments": {},
   "cell_type": "markdown",
   "metadata": {},
   "source": [
    "### Uji Hipotesis apakah ada perbedaan transaksi antarkategori produk?"
   ]
  },
  {
   "attachments": {},
   "cell_type": "markdown",
   "metadata": {},
   "source": [
    "Hipotesis:\n",
    "\n",
    "    H0 : Tidak ada perbedaan transaksi antara setiap kategori produk\n",
    "    H1 : Ada perbedaan transaksi antara setiap kategori produk\n",
    "\n",
    "Uji ini akan menggunakan ANOVA karena uji dilakukan dalam kolom yang memiliki lebih dari 2 unique value"
   ]
  },
  {
   "cell_type": "code",
   "execution_count": 27,
   "metadata": {},
   "outputs": [
    {
     "data": {
      "text/plain": [
       "product_category\n",
       "Bakery                1.028399\n",
       "Branded               1.000000\n",
       "Coffee                1.480899\n",
       "Coffee beans          1.000000\n",
       "Drinking Chocolate    1.476977\n",
       "Flavours              1.480537\n",
       "Loose Tea             1.000000\n",
       "Packaged Chocolate    1.000000\n",
       "Tea                   1.478967\n",
       "Name: transaction_qty, dtype: float64"
      ]
     },
     "execution_count": 27,
     "metadata": {},
     "output_type": "execute_result"
    }
   ],
   "source": [
    "# Memperlihatkan mean setiap kategori berdasarkan jumlah transaksi\n",
    "df.groupby('product_category')['transaction_qty'].mean()"
   ]
  },
  {
   "cell_type": "code",
   "execution_count": 28,
   "metadata": {},
   "outputs": [
    {
     "name": "stdout",
     "output_type": "stream",
     "text": [
      "P-value: 0.0\n"
     ]
    }
   ],
   "source": [
    "categories = ['Tea', 'Coffee', 'Bakery', 'Drinking Chocolate', 'Flavours',\n",
    "              'Loose Tea', 'Packaged Chocolate', 'Branded', 'Coffee beans']\n",
    "\n",
    "# Menghitung mean untuk setiap kategori produk\n",
    "mean = df.groupby('product_category')['transaction_qty'].mean()\n",
    "\n",
    "# Mengambil data transaksi untuk setiap kategori produk\n",
    "data_for_anova = [df[df['product_category'] == category]['transaction_qty'] for category in mean.index]\n",
    "\n",
    "# ANOVA\n",
    "res = stats.f_oneway(*data_for_anova)\n",
    "\n",
    "# Print hasil P-value\n",
    "print('P-value:', res.pvalue)"
   ]
  },
  {
   "attachments": {},
   "cell_type": "markdown",
   "metadata": {},
   "source": [
    "Nilai P-value lebih kecil dari 0.05 maka tolak `H0`, yang berarti adanya perbedaan transaksi antara setiap kategori produk"
   ]
  },
  {
   "attachments": {},
   "cell_type": "markdown",
   "metadata": {},
   "source": [
    "## Kategori produk mana yang paling diminati pelanggan?"
   ]
  },
  {
   "cell_type": "code",
   "execution_count": 29,
   "metadata": {},
   "outputs": [
    {
     "data": {
      "text/plain": [
       "product_category\n",
       "Packaged Chocolate    110  \n",
       "Branded               279  \n",
       "Loose Tea             344  \n",
       "Coffee beans          502  \n",
       "Flavours              2206 \n",
       "Drinking Chocolate    6351 \n",
       "Bakery                7496 \n",
       "Tea                   24048\n",
       "Coffee                29655\n",
       "Name: transaction_qty, dtype: int64"
      ]
     },
     "execution_count": 29,
     "metadata": {},
     "output_type": "execute_result"
    }
   ],
   "source": [
    "# Mengkategorikan total transaksi pada kategori produk\n",
    "df.groupby('product_category')['transaction_qty'].sum().sort_values()"
   ]
  },
  {
   "cell_type": "code",
   "execution_count": 30,
   "metadata": {},
   "outputs": [
    {
     "data": {
      "image/png": "[encoded data removed]",
      "text/plain": [
       "<Figure size 2000x800 with 1 Axes>"
      ]
     },
     "metadata": {},
     "output_type": "display_data"
    }
   ],
   "source": [
    "# Menghitung total penjualan per kategori produk\n",
    "total_penjualan_per_kategori = df.groupby('product_category')['transaction_qty'].sum().sort_values()\n",
    "\n",
    "# Menentukan kategori dengan penjualan tertinggi\n",
    "kategori_tertinggi = total_penjualan_per_kategori.idxmax()\n",
    "\n",
    "# Membuat plot bar\n",
    "plt.figure(figsize=(20, 8))\n",
    "colors = ['#E9C46A' if kategori != kategori_tertinggi else '#6F4E37' for kategori in total_penjualan_per_kategori.index]\n",
    "bars = plt.bar(total_penjualan_per_kategori.index, total_penjualan_per_kategori, color=colors)\n",
    "plt.title('Number Transaction by Product Category')\n",
    "plt.xlabel('Product Category')\n",
    "plt.ylabel('Total Transaction')\n",
    "plt.xticks(rotation=45)\n",
    "# Menambahkan nilai di atas setiap bar\n",
    "for bar in bars:\n",
    "    yval = bar.get_height()\n",
    "    plt.text(bar.get_x() + bar.get_width()/2, yval, int(yval), va='bottom', ha='center', fontsize=10)\n",
    "\n",
    "plt.savefig('product_categori.png')\n",
    "\n",
    "plt.show()"
   ]
  },
  {
   "attachments": {},
   "cell_type": "markdown",
   "metadata": {},
   "source": [
    "Berdasarkan pada barplot yang ada kategori produk yang paling diminati para pelanggan adalah kategori coffee dengan total transaksi yang ada sebesar `29655` dan kategori pakaged chocolate adalah kategori yang kurang diminati oleh para pelanggan dengan total transaksi sebesar `110`."
   ]
  },
  {
   "attachments": {},
   "cell_type": "markdown",
   "metadata": {},
   "source": [
    "## Apakah pelanggan cenderung membeli produk yang murah?"
   ]
  },
  {
   "attachments": {},
   "cell_type": "markdown",
   "metadata": {},
   "source": [
    "### Uji hipotesis apakah customers cenderung membeli product yang murah\n",
    "\n",
    "- **HO** Harga produk tidak berpengaruh dengan pembelian\n",
    "- **H1** Harga produk berpengaruh dengan pembelian \n",
    "- Dalam analisis ini saya ingin mencari tau apakah ada korelasi antar harga produk dan penjualan \n",
    "- Harga produk memiliki skewness positif data tidak terdistribusi normal, untuk mencari hubungan antara kedua variabel uji `Spearman` lebih tepat digunakan."
   ]
  },
  {
   "cell_type": "code",
   "execution_count": 31,
   "metadata": {},
   "outputs": [
    {
     "name": "stdout",
     "output_type": "stream",
     "text": [
      "r-correlation:  -0.13165980427817914\n",
      "P-value:  2.032138337186032e-194\n"
     ]
    }
   ],
   "source": [
    "# Uji korelasi spearman\n",
    "corr_r, pval_p = stats.spearmanr(df['unit_price'],df['transaction_qty'])\n",
    "print('r-correlation: ' , corr_r)\n",
    "print('P-value: ', pval_p)"
   ]
  },
  {
   "attachments": {},
   "cell_type": "markdown",
   "metadata": {},
   "source": [
    "Berdasarkan r-correlation korelasi dan p-value antara `unit_price` dan `transaction_qty`:\n",
    "    \n",
    "- Korelasi termasuk dalam negative correlation dimana jika salah satu variable naik, variablenya akan menurun.\n",
    "\n",
    "- Nilai korelasi lebih mendekati dengan 0 dibandingkan lebih dekat dengan 1 maka hubungan antara harga produk dengan penjualan dapat dikatakan rendah.\n",
    "\n",
    "- Nilai p-value lebih kecil dari tingkat signifikansi 0.05, maka H0 ditolak dimana harga produk tetap berpengaruh terhadap pembelian."
   ]
  },
  {
   "attachments": {},
   "cell_type": "markdown",
   "metadata": {},
   "source": [
    "## Produk apa yang paling diminati di coffee shop Astoria berdasarkan data penjualan?"
   ]
  },
  {
   "cell_type": "code",
   "execution_count": 32,
   "metadata": {},
   "outputs": [
    {
     "data": {
      "text/plain": [
       "product_detail\n",
       "Columbian Medium Roast          4650\n",
       "Our Old Time Diner Blend        4623\n",
       "Jamaican Coffee River           4451\n",
       "Ethiopia                        4420\n",
       "Brazilian                       4344\n",
       "Dark chocolate                  3281\n",
       "Earl Grey                       3194\n",
       "Spicy Eye Opener Chai           3191\n",
       "Morning Sunrise Chai            3174\n",
       "Peppermint                      3150\n",
       "Sustainably Grown Organic       3133\n",
       "Traditional Blend Chai          3061\n",
       "Latte                           3057\n",
       "Serenity Green Tea              2940\n",
       "Lemon Grass                     2900\n",
       "Cappuccino                      2851\n",
       "English Breakfast               2782\n",
       "Espresso shot                   1437\n",
       "Chocolate Croissant             1023\n",
       "Jumbo Savory Scone              700 \n",
       "Cranberry Scone                 685 \n",
       "Chocolate syrup                 670 \n",
       "Hazelnut Biscotti               664 \n",
       "Oatmeal Scone                   653 \n",
       "Chocolate Chip Biscotti         652 \n",
       "Ginger Scone                    648 \n",
       "Ginger Biscotti                 639 \n",
       "Almond Croissant                623 \n",
       "Croissant                       606 \n",
       "Scottish Cream Scone            603 \n",
       "Sugar Free Vanilla syrup        567 \n",
       "Carmel syrup                    535 \n",
       "Hazelnut syrup                  434 \n",
       "I Need My Bean! T-shirt         111 \n",
       "I Need My Bean! Latte cup       102 \n",
       "I Need My Bean! Diner mug       66  \n",
       "Jamacian Coffee River           51  \n",
       "Espresso Roast                  51  \n",
       "Chili Mayan                     47  \n",
       "Brazilian - Organic             47  \n",
       "Primo Espresso Roast            46  \n",
       "Civet Cat                       45  \n",
       "Organic Decaf Blend             44  \n",
       "Guatemalan Sustainably Grown    40  \n",
       "Name: transaction_qty, dtype: int64"
      ]
     },
     "execution_count": 32,
     "metadata": {},
     "output_type": "execute_result"
    }
   ],
   "source": [
    "# filter tipe produk berdasarkan banyak transaksi\n",
    "df.groupby('product_detail')['transaction_qty'].sum().sort_values(ascending=False)"
   ]
  },
  {
   "cell_type": "code",
   "execution_count": 33,
   "metadata": {},
   "outputs": [
    {
     "data": {
      "image/png": "[encoded data removed]",
      "text/plain": [
       "<Figure size 1200x600 with 1 Axes>"
      ]
     },
     "metadata": {},
     "output_type": "display_data"
    },
    {
     "data": {
      "image/png": "[encoded data removed]",
      "text/plain": [
       "<Figure size 1200x600 with 1 Axes>"
      ]
     },
     "metadata": {},
     "output_type": "display_data"
    }
   ],
   "source": [
    "# Transaksi per menu\n",
    "menuTransaction = df.groupby('product_detail')['transaction_qty'].sum().sort_values(ascending=True)\n",
    "\n",
    "# Bagi DataFrame menjadi dua DataFrame terpisah: 5 teratas dan 5 terbawah\n",
    "top_5 = menuTransaction.tail(5)\n",
    "bottom_5 = menuTransaction.head(5)\n",
    "\n",
    "# Plot 5 teratas\n",
    "plt.figure(figsize=(12, 6))\n",
    "top_5.plot(kind='barh', color='#6F4E37')\n",
    "plt.title('Top 5 Most Popular Products')\n",
    "plt.xlabel('Total Transaction')\n",
    "plt.ylabel('Menu')\n",
    "plt.xticks(rotation=0)\n",
    "plt.grid(axis='x')\n",
    "plt.savefig('top 5.png')\n",
    "\n",
    "# Menambahkan nilai di sebelah kanan setiap bar\n",
    "for index, value in enumerate(top_5):\n",
    "    plt.text(value, index, str(value), ha='left', va='center', fontsize=10)\n",
    "\n",
    "plt.show()\n",
    "\n",
    "# Plot 5 terbawah\n",
    "plt.figure(figsize=(12, 6))\n",
    "bottom_5.plot(kind='barh', color='#6F4E37')\n",
    "plt.title('Bottom 5 Least Popular Products')\n",
    "plt.xlabel('Total Transaction')\n",
    "plt.ylabel('Menu')\n",
    "plt.xticks(rotation=0)\n",
    "plt.grid(axis='x')\n",
    "plt.savefig('bot 5.png')\n",
    "# Menambahkan nilai di sebelah kanan setiap bar\n",
    "for index, value in enumerate(bottom_5):\n",
    "    plt.text(value, index, str(value), ha='left', va='center', fontsize=10)\n",
    "\n",
    "\n",
    "\n",
    "plt.show()\n",
    "\n"
   ]
  },
  {
   "attachments": {},
   "cell_type": "markdown",
   "metadata": {},
   "source": [
    "Berdasarkan visualisasi data, menu yang paling laris terjual adalah 'Colombian Medium Roast' dengan total transaksi selama 6 bulan mencapai 4.650. Sedangkan 'Guatemalan Sustainably Grown' adalah produk yang paling kurang diminati, dengan total transaksi selama 6 bulan hanya sebesar 40."
   ]
  },
  {
   "attachments": {},
   "cell_type": "markdown",
   "metadata": {},
   "source": [
    "## Kapan waktu pembelian paling sering dan paling sepi di coffee shop Astoria?"
   ]
  },
  {
   "cell_type": "code",
   "execution_count": 34,
   "metadata": {},
   "outputs": [
    {
     "data": {
      "text/plain": [
       "Hour\n",
       "7     5865\n",
       "8     6756\n",
       "9     7055\n",
       "10    7388\n",
       "11    4892\n",
       "12    4955\n",
       "13    4894\n",
       "14    4661\n",
       "15    4754\n",
       "16    4982\n",
       "17    4909\n",
       "18    4894\n",
       "19    4986\n",
       "Name: transaction_qty, dtype: int64"
      ]
     },
     "execution_count": 34,
     "metadata": {},
     "output_type": "execute_result"
    }
   ],
   "source": [
    "# Mengelompokan transaksi berdasarkan waktu\n",
    "df.groupby('Hour')['transaction_qty'].sum()"
   ]
  },
  {
   "cell_type": "code",
   "execution_count": 35,
   "metadata": {},
   "outputs": [
    {
     "data": {
      "image/png": "[encoded data removed]",
      "text/plain": [
       "<Figure size 1200x600 with 1 Axes>"
      ]
     },
     "metadata": {},
     "output_type": "display_data"
    }
   ],
   "source": [
    "# Hitung frekuensi transaksi untuk setiap jam\n",
    "transaksi_per_jam = df.groupby('Hour')['transaction_qty'].sum()\n",
    "\n",
    "# Plot hasilnya\n",
    "plt.figure(figsize=(12, 6))\n",
    "transaksi_per_jam.plot(kind='bar', color='#6F4E37')\n",
    "plt.title('Total Transactions at Coffee Shop Astoria by Hour')\n",
    "plt.xlabel('Time')\n",
    "plt.ylabel('Number of Transactions')\n",
    "plt.xticks(rotation=0)\n",
    "plt.grid(axis='y')\n",
    "plt.savefig('transaction.png')\n",
    "plt.show()\n"
   ]
  },
  {
   "attachments": {},
   "cell_type": "markdown",
   "metadata": {},
   "source": [
    "Berdasarkan visualisasi data, jam paling ramai terjadi pada pagi hari, jam 10 pagi merupakan jam paling ramai. Sedangkan jam yang paling sepi adalah jam 14."
   ]
  },
  {
   "attachments": {},
   "cell_type": "markdown",
   "metadata": {},
   "source": [
    "## Hari apa yang paling ramai di coffee shop?"
   ]
  },
  {
   "cell_type": "code",
   "execution_count": 36,
   "metadata": {},
   "outputs": [
    {
     "data": {
      "text/plain": [
       "Day Name\n",
       "Friday       10342\n",
       "Monday       10362\n",
       "Saturday     9720 \n",
       "Sunday       9981 \n",
       "Thursday     10384\n",
       "Tuesday      9743 \n",
       "Wednesday    10459\n",
       "Name: transaction_qty, dtype: int64"
      ]
     },
     "execution_count": 36,
     "metadata": {},
     "output_type": "execute_result"
    }
   ],
   "source": [
    "# Mengelompokan total transaksi penjualan berdasarkan hari\n",
    "df.groupby('Day Name')['transaction_qty'].sum()"
   ]
  },
  {
   "cell_type": "code",
   "execution_count": 37,
   "metadata": {},
   "outputs": [
    {
     "data": {
      "image/png": "[encoded data removed]",
      "text/plain": [
       "<Figure size 1200x600 with 1 Axes>"
      ]
     },
     "metadata": {},
     "output_type": "display_data"
    }
   ],
   "source": [
    "# Hitung frekuensi transaksi untuk setiap hari\n",
    "transaksi_per_hari = df.groupby('Day Name')['transaction_qty'].sum().reindex(\n",
    "    ['Monday', 'Tuesday', 'Wednesday', 'Thursday', 'Friday', 'Saturday', 'Sunday'])\n",
    "\n",
    "# Plot hasilnya\n",
    "plt.figure(figsize=(12, 6))\n",
    "bars = plt.bar(transaksi_per_hari.index, transaksi_per_hari, color='#E9C46A')\n",
    "plt.title('Total Transactions at Coffee Shop Astoria by Day ')\n",
    "plt.xlabel('Day of the Week')\n",
    "plt.ylabel('Number of Transactions')\n",
    "plt.xticks(rotation=0)\n",
    "plt.grid(axis='y')\n",
    "\n",
    "# Menambahkan nilai di atas setiap bar\n",
    "for bar in bars:\n",
    "    yval = bar.get_height()\n",
    "    plt.text(bar.get_x() + bar.get_width()/2, yval, int(yval), va='bottom', ha='center', fontsize=10)\n",
    "plt.savefig('day.png')\n",
    "plt.show()\n"
   ]
  },
  {
   "attachments": {},
   "cell_type": "markdown",
   "metadata": {},
   "source": [
    "Penjualan paling tinggi terjadi pada hari `Rabu`, sementara penjualan terendah terjadi pada hari `Sabtu`. Namun, perlu diperhatikan bahwa selisih antara penjualan di setiap hari tidak terlalu signifikan, dengan rata-rata transaksi harian minimal `9.000`."
   ]
  },
  {
   "attachments": {},
   "cell_type": "markdown",
   "metadata": {},
   "source": [
    "## Size cup apa yang paling diminati pelanggan?"
   ]
  },
  {
   "cell_type": "code",
   "execution_count": 38,
   "metadata": {},
   "outputs": [
    {
     "data": {
      "text/plain": [
       "Size\n",
       "Large          23820\n",
       "Not Defined    15344\n",
       "Regular        24371\n",
       "Small          7456 \n",
       "Name: transaction_qty, dtype: int64"
      ]
     },
     "execution_count": 38,
     "metadata": {},
     "output_type": "execute_result"
    }
   ],
   "source": [
    "# Mengelompokan data berdasarkan size cup\n",
    "df.groupby('Size')['transaction_qty'].sum()"
   ]
  },
  {
   "cell_type": "code",
   "execution_count": 39,
   "metadata": {},
   "outputs": [
    {
     "data": {
      "image/png": "[encoded data removed]",
      "text/plain": [
       "<Figure size 800x800 with 1 Axes>"
      ]
     },
     "metadata": {},
     "output_type": "display_data"
    }
   ],
   "source": [
    "drinksSize = df.groupby('Size')['transaction_qty'].sum()\n",
    "# Melakukan drop pada value Not Defined\n",
    "drinksSize = drinksSize.drop(labels=['Not Defined'])\n",
    "\n",
    "\n",
    "colors = ['#8B4513', '#A0522D', '#CD853F', '#D2691E']\n",
    "\n",
    "# Membuat pie chart\n",
    "plt.figure(figsize=(8, 8))\n",
    "patches, texts, _ = plt.pie(drinksSize, labels=drinksSize.index, startangle=140, colors=colors, autopct='%1.1f%%')\n",
    "plt.title('Distribution of Drink Sizes by Transaction')\n",
    "plt.axis('equal')  # Menyamakan skala sumbu x dan y agar pie chart berbentuk lingkaran\n",
    "\n",
    "# Menambahkan nilai jumlah quantity per size di dalam setiap bagian pie chart\n",
    "for i, text in enumerate(texts):\n",
    "    percentage = drinksSize.iloc[i]\n",
    "    text.set_text(f'{drinksSize.index[i]}\\n({percentage})')\n",
    "plt.savefig('drink.png')\n",
    "plt.show()\n"
   ]
  },
  {
   "attachments": {},
   "cell_type": "markdown",
   "metadata": {},
   "source": [
    "Ukuran cup yang paling diminati dalam data adalah regular, sedangkan yang kurang diminati adalah ukuran small."
   ]
  },
  {
   "attachments": {},
   "cell_type": "markdown",
   "metadata": {},
   "source": [
    "# Kesimpulan"
   ]
  },
  {
   "attachments": {},
   "cell_type": "markdown",
   "metadata": {},
   "source": [
    "Berdasarkan analisis yang dilakukan, berikut adalah kesimpulan serta rekomendasi untuk meningkatkan pendapatan Coffee Shop Astoria:\n",
    "\n",
    "1. **Analisis Penjualan**: Ditemukan bahwa penjualan tertinggi terjadi pada hari Rabu, dengan penurunan pada hari Sabtu. Meskipun demikian, variasi antara hari-hari tidak signifikan, dengan rata-rata transaksi harian sekitar 9.000. Jam paling ramai terjadi pada pagi hari pada jam 10 pagi, sementara jam 14 merupakan waktu paling sepi. Ini menunjukkan potensi untuk meningkatkan promosi pada jam-jam sibuk dan mengembangkan strategi untuk menarik pelanggan pada hari-hari yang cenderung sepi.\n",
    "\n",
    "2. **Analisis Produk**: Produk yang paling diminati adalah \"Colombian Medium Roast\" dengan jumlah transaksi tertinggi, sementara \"Guatemalan Sustainably Grown\" adalah produk yang paling kurang diminati. Ini mengindikasikan perlunya evaluasi terhadap produk yang kurang diminati dan pengembangan menu baru yang menarik untuk meningkatkan minat pelanggan.\n",
    "\n",
    "3. **Analisis Harga**: Meskipun ada korelasi negatif antara harga produk dan jumlah penjualan, harga produk masih mempengaruhi pembelian. Oleh karena itu, strategi penetapan harga perlu diperhatikan dengan cermat untuk menjaga keseimbangan antara keuntungan dan minat pelanggan.\n",
    "\n",
    "4. **Implementasi Strategi**: Untuk meningkatkan pendapatan sebesar 10% dalam 3 bulan ke depan, beberapa langkah implementasi dapat dilakukan:\n",
    "   - Pengembangan Menu Baru: Berdasarkan analisis produk, pengenalan menu baru yang menarik dan sesuai dengan selera pelanggan dapat meningkatkan minat pembelian.\n",
    "   - Promosi Efektif: Menggunakan analisis tentang jam sibuk dan hari penjualan tertinggi, promosi dapat diprioritaskan pada saat-saat strategis untuk meningkatkan kunjungan pelanggan.\n",
    "   - Evaluasi Harga: Melakukan evaluasi terhadap harga produk untuk memastikan penentuan harga yang optimal, menyesuaikan dengan kebutuhan pasar dan memberikan insentif untuk pembelian.\n",
    "   - Manajemen Stok: Memastikan ketersediaan produk yang diminati dan mengurangi stok produk yang kurang diminati untuk mengoptimalkan ruang penyimpanan dan menghindari pemborosan.\n",
    "\n",
    "Dengan implementasi strategi ini, diharapkan Coffee Shop Astoria dapat mencapai peningkatan pendapatan yang signifikan dalam jangka waktu yang ditetapkan."
   ]
  }
 ],
 "metadata": {
  "kernelspec": {
   "display_name": "Python 3",
   "language": "python",
   "name": "python3"
  },
  "language_info": {
   "codemirror_mode": {
    "name": "ipython",
    "version": 3
   },
   "file_extension": ".py",
   "mimetype": "text/x-python",
   "name": "python",
   "nbconvert_exporter": "python",
   "pygments_lexer": "ipython3",
   "version": "3.12.2"
  },
  "orig_nbformat": 4
 },
 "nbformat": 4,
 "nbformat_minor": 2
}
